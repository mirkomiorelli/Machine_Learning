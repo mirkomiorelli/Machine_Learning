{
 "cells": [
  {
   "cell_type": "markdown",
   "metadata": {},
   "source": [
    "<script type=\"text/x-mathjax-config\">\n",
    "MathJax.Hub.Config({\n",
    "  TeX: { equationNumbers: { autoNumber: \"AMS\" } }\n",
    "});\n",
    "</script>"
   ]
  },
  {
   "cell_type": "markdown",
   "metadata": {},
   "source": [
    "Libraries needed: <i>numpy</i>, <i>matplotlib</i>, <i>keras</i> (this last one is needed to import the MNIST dataset. You can install it by following the guide at <a href=\"https://keras.io/\">https://keras.io/</a>)"
   ]
  },
  {
   "cell_type": "markdown",
   "metadata": {},
   "source": [
    "<h1> Bernoulli Mixture Model </h1>"
   ]
  },
  {
   "cell_type": "markdown",
   "metadata": {},
   "source": [
    "Here I describe the Bernoulli mixture model and show how we can apply this model (together with the Expectation-Maximization (EM) algorithm) to classify (we'll see how well or how bad) hand written digits from the <a href=\"http://yann.lecun.com/exdb/mnist/\">MNIST</a> database. In section (1) I describe the theory behind the model and I derive the update rules for the EM algorithm. In section (2) I implement the Bernoulli mixture model with EM optimization in Python. At last, in section (3) I show some results obtained with a faster code which I implemented in C++."
   ]
  },
  {
   "cell_type": "markdown",
   "metadata": {},
   "source": [
    "<h2> 1. Theory </h2>"
   ]
  },
  {
   "cell_type": "markdown",
   "metadata": {},
   "source": [
    "Bernoully distribution for one $N$-dimensional data variable $\\mathbf{x}$ which is a vector of binary values $x_i$:\n",
    "\n",
    "\\begin{align}\\tag{1}\n",
    "p(\\mathbf{x}|\\mu) = \\prod_{n=1}^N\\mu_n^{x_n}(1-\\mu_n)^{1-x_n}\n",
    "\\end{align}\n",
    "\n",
    "Both $\\mathbf{x}$ and $\\mu$ are row vectors in $\\mathbb{R}^{N}$."
   ]
  },
  {
   "cell_type": "markdown",
   "metadata": {},
   "source": [
    "A finite mixture of such distributions is:\n",
    "\n",
    "\\begin{align}\\tag{2}\n",
    "p(\\mathbf{x}|\\mu,\\pi)=\\sum_{k=1}^K \\pi_k p(\\mathbf{x},\\mu_k) = \\sum_{k=1}^K \\pi_k\\prod_{n=1}^N\\mu_{kn}^{x_n}(1-\\mu_{kn})^{1-x_n}\n",
    "\\end{align}"
   ]
  },
  {
   "cell_type": "markdown",
   "metadata": {},
   "source": [
    "where $\\mu\\in\\mathbb{R}^{K\\times N}$."
   ]
  },
  {
   "cell_type": "markdown",
   "metadata": {},
   "source": [
    "If we are given a dataset of $M$ vectors $\\mathbf{x}_m$, we build the design matrix $X\\in\\mathbb{R}^{M\\times N}$ and then the total probability ditribution will be given by\n",
    "\n",
    "\\begin{align}\\tag{3}\n",
    "p(X|\\mu,\\pi) = \\prod_{m=1}^M\\sum_{k=1}^K \\pi_k p(X|\\mu_k) = \\prod_{m=1}^M\\sum_{k=1}^K \\pi_k\\prod_{n=1}^N\\mu_{kn}^{X_{mn}}(1-\\mu_{kn})^{1-X_{mn}}\n",
    "\\end{align}"
   ]
  },
  {
   "cell_type": "markdown",
   "metadata": {},
   "source": [
    "The log-likelihood is given by"
   ]
  },
  {
   "cell_type": "markdown",
   "metadata": {},
   "source": [
    "\\begin{align}\\tag{4}\n",
    "\\log p(X|\\mu,\\pi) = \\log\\prod_{m=1}^M\\sum_{k=1}^K \\pi_k p(X|\\mu_k) = \\sum_{m=1}^M\\log\\sum_{k=1}^K \\pi_k p(X|\\mu_k) = \\sum_{m=1}^M\\log\\left[\\sum_{k=1}^K \\pi_k\\prod_{n=1}^N\\mu_{kn}^{X_{mn}}(1-\\mu_{kn})^{1-X_{mn}}\\right]\n",
    "\\end{align}"
   ]
  },
  {
   "cell_type": "markdown",
   "metadata": {},
   "source": [
    "<h4> Minimization with respect to $\\mu$</h4>"
   ]
  },
  {
   "cell_type": "markdown",
   "metadata": {},
   "source": [
    "Derivative with respect to $\\mu_{ji}$:"
   ]
  },
  {
   "cell_type": "markdown",
   "metadata": {},
   "source": [
    "\\begin{align}\\tag{5}\n",
    "\\frac{\\partial \\log p(X|\\mu,\\pi)}{\\partial\\mu_{ji}} = \\sum_{m=1}^M\\frac{1}{\\sum_{q=1}^K \\pi_q p(X|\\mu_q)} \\sum_{k=1}^K\\pi_k\\frac{\\partial p(X|\\mu_k)}{\\partial \\mu_{ji}}\n",
    "\\end{align}"
   ]
  },
  {
   "cell_type": "markdown",
   "metadata": {},
   "source": [
    "For a given $m$, we also have"
   ]
  },
  {
   "cell_type": "markdown",
   "metadata": {},
   "source": [
    "\\begin{align}\\tag{6}\n",
    "\\frac{\\partial p(X|\\mu_k)}{\\partial \\mu_{ji}} =&\\ \\frac{\\partial }{\\partial \\mu_{ji}}\\prod_{n=1}^N\\mu_{kn}^{X_{mn}}(1-\\mu_{kn})^{1-X_{mn}}\\\\\n",
    "=&\\ \\delta_{kj}\\prod_{n\\neq i}^N \\mu_{kn}^{X_{mn}}(1-\\mu_{kn})^{1-X_{mn}}\\left[X_{mi}\\mu_{ki}^{X_{mi}-1}(1-\\mu_{ki})^{1-X_{mi}}-\\mu_{ki}^{X_{mi}}(1-X_{mi})(1-\\mu_{ki})^{-X_{mi}}\\right] \\\\\n",
    "=&\\ \\delta_{kj}\\prod_{n=1}^N\\mu_{kn}^{X_{mn}}(1-\\mu_{kn})^{1-X_{mn}}\\left[\\frac{X_{mi}-\\mu_{ki}}{\\mu_{ki}(1-\\mu_{ki})}\\right] = \\delta_{kj}p(X|\\mu_k)\\left[\\frac{X_{mi}-\\mu_{ki}}{\\mu_{ki}(1-\\mu_{ki})}\\right]\n",
    "\\end{align}"
   ]
  },
  {
   "cell_type": "markdown",
   "metadata": {},
   "source": [
    "and so \n",
    "\n",
    "\\begin{align}\\tag{7}\n",
    "\\frac{\\partial \\log p(X|\\mu,\\pi)}{\\partial\\mu_{ji}} = \\sum_{m=1}^M\\frac{\\pi_j p(X|\\mu_j)}{\\sum_{q=1}^K \\pi_q p(X|\\mu_q)}\\left[\\frac{X_{mi}-\\mu_{ki}}{\\mu_{ki}(1-\\mu_{ki})}\\right]\n",
    "\\end{align}"
   ]
  },
  {
   "cell_type": "markdown",
   "metadata": {},
   "source": [
    "Calling\n",
    "\n",
    "\\begin{align}\\tag{8}\n",
    "\\gamma_{km} = \\frac{\\pi_k p(X|\\mu_k)}{\\sum_{j=1}^K \\pi_j p(X|\\mu_j)}   \n",
    "\\end{align}"
   ]
  },
  {
   "cell_type": "markdown",
   "metadata": {},
   "source": [
    "setting Eq.(7) to zero and solving for $\\mu$ we get"
   ]
  },
  {
   "cell_type": "markdown",
   "metadata": {},
   "source": [
    "\\begin{align}\\tag{9}\n",
    "\\mu_{ki} = \\frac{\\sum_{m=1}^M\\gamma_{km}X_{mi}}{\\sum_{m=1}^M\\gamma_{km}}\n",
    "\\end{align}"
   ]
  },
  {
   "cell_type": "markdown",
   "metadata": {},
   "source": [
    "or in more compact vector notation (note that $\\mathbf{x}_m$ is a row of $X$ and $\\mu_k$ is a row of $\\mu$), we have\n",
    "\n",
    "\\begin{align}\\tag{10}\n",
    "\\mu_{k} = \\frac{\\sum_{m=1}^M\\gamma_{km}\\mathbf{x}_{m}}{\\sum_{m=1}^M\\gamma_{km}}\n",
    "\\end{align}"
   ]
  },
  {
   "cell_type": "markdown",
   "metadata": {},
   "source": [
    "<h4> Minimization with respect to $\\pi$ </h4>"
   ]
  },
  {
   "cell_type": "markdown",
   "metadata": {
    "collapsed": true
   },
   "source": [
    "To minimize with respect to $\\pi$ we need to also impose the constraint $\\sum_k\\pi_k=1$ and so we introduce a lagrangian multiplier $\\lambda$ and we get\n",
    "\n",
    "\\begin{align}\\tag{11}\n",
    "0 = \\frac{\\partial}{\\partial\\pi_j}\\left[\\log p(X|\\mu,\\pi) + \\lambda\\left(\\sum_{k=1}^K\\pi_k - 1\\right)\\right] = \\sum_{m=1}^M\\frac{p(X|\\mu_j)}{\\sum_{q=1}^K \\pi_q p(X|\\mu_q)} + \\lambda = \\sum_{m=1}^M\\gamma_{jm} + \\lambda\\pi_j\n",
    "\\end{align}"
   ]
  },
  {
   "cell_type": "markdown",
   "metadata": {},
   "source": [
    "Summing the above equation over $j$ and using $\\sum_{j=1}^K\\gamma_{jm}=1$ we find $\\gamma=-M$ and so solving for $\\pi$ we get"
   ]
  },
  {
   "cell_type": "markdown",
   "metadata": {},
   "source": [
    "\\begin{align}\\tag{12}\n",
    "\\pi_k = \\frac{1}{M}\\sum_{m=1}^M\\gamma_{km}\n",
    "\\end{align}"
   ]
  },
  {
   "cell_type": "markdown",
   "metadata": {},
   "source": [
    "<h2> 2. Python Implementation </h2>"
   ]
  },
  {
   "cell_type": "markdown",
   "metadata": {},
   "source": [
    "<h5> Libraries and custom functions for image processing </h5>"
   ]
  },
  {
   "cell_type": "code",
   "execution_count": 1,
   "metadata": {
    "collapsed": false
   },
   "outputs": [
    {
     "name": "stderr",
     "output_type": "stream",
     "text": [
      "Using TensorFlow backend.\n"
     ]
    }
   ],
   "source": [
    "# Import libraries\n",
    "from keras.datasets import mnist\n",
    "import numpy as np\n",
    "import time\n",
    "import matplotlib.pyplot as plt\n",
    "%matplotlib inline\n",
    "\n",
    "# Normalize images to [0,1] range\n",
    "def _normalize(X):\n",
    "    return X.astype('float') / 255.0\n",
    "\n",
    "# Convert array of reals into array of binary, threshold is 0.5\n",
    "def _convertBinary(X):\n",
    "    return 1.0 * (X >= 0.5)\n",
    "\n",
    "# Flatten image: each image is Nx*Ny pixels, put it in a row vector of Nx*Ny elements\n",
    "def _flatten(X):\n",
    "    num_pixels = X.shape[1] * X.shape[2]\n",
    "    return X.reshape(X.shape[0],num_pixels).astype('float')\n",
    "\n",
    "# Un-flatten image\n",
    "def _decode(flat,Nx,Ny):\n",
    "    M = flat.shape[0]\n",
    "    return flat.reshape((M,Nx,Ny))"
   ]
  },
  {
   "cell_type": "markdown",
   "metadata": {
    "collapsed": false
   },
   "source": [
    "<h5> EM algorithm functions </h5>"
   ]
  },
  {
   "cell_type": "code",
   "execution_count": 2,
   "metadata": {
    "collapsed": true
   },
   "outputs": [],
   "source": [
    "# Function to initialize mu and pi parameters\n",
    "def _initialize(K,N):\n",
    "    # Random initialize mu\n",
    "    mu = np.random.uniform(low=0.1,high=0.9,size=(K,N))\n",
    "    # Random initialize mixture coefficients\n",
    "    pi = np.random.uniform(low=0.1,high=0.9,size=K)\n",
    "    # Normalize mixture coefficients (subject to contraint)\n",
    "    pi = pi / np.sum(pi)\n",
    "    return mu, pi\n",
    "\n",
    "# Get bernoulli prob\n",
    "# KxM matrix\n",
    "def _getP(X,mu):\n",
    "    K, N = mu.shape\n",
    "    M = X.shape[0]\n",
    "    p = np.ones((K,M),dtype=float)\n",
    "    for m in range(M):\n",
    "        for k in range(K):\n",
    "            single_term = (mu[k,:] ** X[m,:]) * (1. - mu[k,:]) ** (1. - X[m,:])\n",
    "            p[k,m] = np.prod(single_term) # Product over n\n",
    "    return p\n",
    "\n",
    "# Estimation step: estimate gamma\n",
    "def _Estep(X,mu,pi):\n",
    "    K = mu.shape[0]\n",
    "    M = X.shape[0]\n",
    "    prob = _getP(X,mu)\n",
    "    gamma = np.zeros((K,M),dtype=float)\n",
    "    for k in range(K):\n",
    "        gamma[k,:] =  pi[k] * prob[k,:]\n",
    "    # Normalize\n",
    "    gamma = gamma / np.sum(gamma,axis=0)\n",
    "    return gamma\n",
    "\n",
    "# Re-evaluate the coefficients pi and mu (Mstep)\n",
    "def _Mstep(X,gamma):\n",
    "    K,M = gamma.shape\n",
    "    # Find normalization factor\n",
    "    norm = np.sum(gamma,axis=1)\n",
    "    # Get new pi\n",
    "    pi = norm / (1. * M)\n",
    "    # Get new mu\n",
    "    mu = np.dot(gamma,X)\n",
    "    for k in range(K):\n",
    "        mu[k,:] = mu[k,:] / norm[k]\n",
    "    return mu, pi"
   ]
  },
  {
   "cell_type": "markdown",
   "metadata": {},
   "source": [
    "<h5> Importing and transforming data </h5>"
   ]
  },
  {
   "cell_type": "code",
   "execution_count": 3,
   "metadata": {
    "collapsed": false
   },
   "outputs": [
    {
     "data": {
      "image/png": "[encoded data removed]",
      "text/plain": [
       "<matplotlib.figure.Figure at 0x7fb428958f60>"
      ]
     },
     "metadata": {},
     "output_type": "display_data"
    }
   ],
   "source": [
    "# Import data\n",
    "(x_train, y_train), (x_test, y_test) = mnist.load_data()\n",
    "# Images are stored as matrices in numpy arrays\n",
    "# Print a couple of images\n",
    "fig = plt.figure(figsize=(7.5,4))\n",
    "for i in range(10):\n",
    "    idx = np.random.randint(0,60000)\n",
    "    ax = fig.add_subplot(2,5,i+1)\n",
    "    ax.imshow(x_train[idx],cmap=plt.get_cmap('gray'))\n",
    "    ax.set_title(str(y_train[idx]))\n",
    "    ax.set_xticks([])\n",
    "    ax.set_yticks([])\n",
    "plt.show()"
   ]
  },
  {
   "cell_type": "code",
   "execution_count": 4,
   "metadata": {
    "collapsed": false
   },
   "outputs": [],
   "source": [
    "# Normalize, transform to binary encoding and flatten the images\n",
    "x_train = _normalize(x_train)\n",
    "x_train = _convertBinary(x_train)\n",
    "x_train = _flatten(x_train)"
   ]
  },
  {
   "cell_type": "markdown",
   "metadata": {},
   "source": [
    "<h5> Optimizing the Bernoulli mixture </h5>"
   ]
  },
  {
   "cell_type": "code",
   "execution_count": 5,
   "metadata": {
    "collapsed": false
   },
   "outputs": [
    {
     "name": "stdout",
     "output_type": "stream",
     "text": [
      "Iter: 0\n",
      "Iter: 1\n",
      "Iter: 2\n",
      "Iter: 3\n",
      "Iter: 4\n",
      "Iter: 5\n",
      "Iter: 6\n",
      "Iter: 7\n",
      "Iter: 8\n",
      "Iter: 9\n",
      "Processing time: 9.579877138137817 s\n"
     ]
    }
   ],
   "source": [
    "\n",
    "# Initialize random generator\n",
    "np.random.seed(0)\n",
    "# Set number of classes\n",
    "K = 10\n",
    "# Set number of images of the initial dataset we want\n",
    "# to optimize on (to be chosen at random)\n",
    "nsample = 5000\n",
    "idx = np.random.randint(0,x_train.shape[0],size=nsample)\n",
    "# Initialize mixture and Bernoulli coefficients\n",
    "xtemp = x_train[idx,:]\n",
    "M,N = xtemp.shape\n",
    "mu,pi = _initialize(K,N)\n",
    "\n",
    "# Maximum number of iterations to be performed\n",
    "itermax = 10\n",
    "\n",
    "# Start EM loop\n",
    "start = time.time()\n",
    "for i in range(itermax):\n",
    "    print (\"Iter: \" + str(i))\n",
    "    # Random permutation of the data\n",
    "    xtemp = np.random.permutation(xtemp)\n",
    "    # Estep\n",
    "    gamma = _Estep(xtemp,mu,pi)\n",
    "    # Mstep\n",
    "    mu,pi = _Mstep(xtemp,gamma)\n",
    "    \n",
    "stop = time.time()\n",
    "print (\"Processing time: \" + str(stop - start) + \" s\")"
   ]
  },
  {
   "cell_type": "code",
   "execution_count": 6,
   "metadata": {
    "collapsed": false
   },
   "outputs": [
    {
     "data": {
      "image/png": "[encoded data removed]",
      "text/plain": [
       "<matplotlib.figure.Figure at 0x7fb3ee056390>"
      ]
     },
     "metadata": {},
     "output_type": "display_data"
    }
   ],
   "source": [
    "# Unflatten classes so that we can plot the values of the mu coefficients\n",
    "mu_decoded = _decode(mu,28,28)\n",
    "# Print the final classes\n",
    "fig = plt.figure(figsize=(7.5,4))\n",
    "for k in range(K):\n",
    "    ax = fig.add_subplot(2,5,k+1)\n",
    "    ax.imshow(mu_decoded[k],cmap=plt.get_cmap('gray'))\n",
    "    ax.set_xticks([])\n",
    "    ax.set_yticks([])\n",
    "plt.show()"
   ]
  },
  {
   "cell_type": "markdown",
   "metadata": {},
   "source": [
    "<h2> 3. Results with C++ (much faster) code </h2>"
   ]
  },
  {
   "cell_type": "markdown",
   "metadata": {},
   "source": [
    "I run the C++ code with the MNIST dataset using all the 60000 training images and for 50 iterations of the EM algorithm. Here I show the final values of the $\\mu_k$."
   ]
  },
  {
   "cell_type": "code",
   "execution_count": 7,
   "metadata": {
    "collapsed": false
   },
   "outputs": [],
   "source": [
    "# Load mu coefficients from file generated by the C++ implementation\n",
    "c_mu = np.zeros((K,N),dtype=float)\n",
    "k = 0;\n",
    "for line in open(\"cpp/mu.dat\"):\n",
    "    c_mu[k] = (np.asarray([float(i) for i in line.split()]))\n",
    "    k += 1"
   ]
  },
  {
   "cell_type": "code",
   "execution_count": 8,
   "metadata": {
    "collapsed": false
   },
   "outputs": [],
   "source": [
    "# Un-flatten coefficients so that we can plot them as images\n",
    "c_mu_decoded = _decode(c_mu,28,28)"
   ]
  },
  {
   "cell_type": "code",
   "execution_count": 9,
   "metadata": {
    "collapsed": false
   },
   "outputs": [
    {
     "data": {
      "image/png": "[encoded data removed]",
      "text/plain": [
       "<matplotlib.figure.Figure at 0x7fb3d770a390>"
      ]
     },
     "metadata": {},
     "output_type": "display_data"
    }
   ],
   "source": [
    "# Plot coefficients\n",
    "fig = plt.figure(figsize=(7.5,4))\n",
    "for k in range(K):\n",
    "    ax = fig.add_subplot(2,5,k+1)\n",
    "    ax.imshow(c_mu_decoded[k],cmap=plt.get_cmap('gray'))\n",
    "    ax.set_xticks([])\n",
    "    ax.set_yticks([])\n",
    "plt.savefig('cpp_train.png', bbox_inches='tight')\n",
    "plt.show()"
   ]
  },
  {
   "cell_type": "markdown",
   "metadata": {
    "collapsed": true
   },
   "source": [
    "As we can see some of the numbers are easy for the algorithm to recognize, while some others are quite hard. In particular from the upper left corner we have the sequence: 4, 3, 8, 1, 9, 6, 5, 0, 7, 2."
   ]
  },
  {
   "cell_type": "markdown",
   "metadata": {},
   "source": [
    "We can notice that 9 and 7 are pretty similar, the 3 and the 8 as well and the number 4 and 5 are really hard to recognize (maybe due to the fact that people write them in many more different ways).\n"
   ]
  }
 ],
 "metadata": {
  "kernelspec": {
   "display_name": "tensorflow",
   "language": "python",
   "name": "tensorflow"
  },
  "language_info": {
   "codemirror_mode": {
    "name": "ipython",
    "version": 3
   },
   "file_extension": ".py",
   "mimetype": "text/x-python",
   "name": "python",
   "nbconvert_exporter": "python",
   "pygments_lexer": "ipython3",
   "version": "3.5.2"
  }
 },
 "nbformat": 4,
 "nbformat_minor": 2
}
