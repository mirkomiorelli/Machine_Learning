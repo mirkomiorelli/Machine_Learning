{
 "cells": [
  {
   "cell_type": "markdown",
   "metadata": {},
   "source": [
    "<h1> Classification with Neural Networks: Keras vs \"From Scratch\"</h1>"
   ]
  },
  {
   "cell_type": "markdown",
   "metadata": {},
   "source": [
    "In this notebook I will show how to use neural networks for classification tasks. We will use the famous iris data set. In particular, I will compare results from training a neural network with the Keras library and training the neural network we coded up from scratch in the previous notebook. For this purpose, I put the neural network code in the SCRIPTS folder: we will import it here as an external package."
   ]
  },
  {
   "cell_type": "markdown",
   "metadata": {},
   "source": [
    "<h2> Importing the data set </h2>"
   ]
  },
  {
   "cell_type": "markdown",
   "metadata": {},
   "source": [
    "We will first have to import the dataset and create the design matrix $X$ and the target vector $y$. The target vector contain labels representing the different classes of our data set, so we have transform the target vector in a one-hot encoded matrix. Furthermore, we will split the data set in test and cross-validation sets: in this way we can train on a part of the data and test the accuracy on the cross-validation one."
   ]
  },
  {
   "cell_type": "code",
   "execution_count": 1,
   "metadata": {
    "collapsed": false
   },
   "outputs": [],
   "source": [
    "# Add library path to system libraries\n",
    "import sys\n",
    "sys.path.append('../SCRIPTS/')\n",
    "# Import library to load model and make predictions\n",
    "import numpy as np\n",
    "import pandas as pd\n",
    "import random\n",
    "import lib_nnet as libnn # custom neural network\n",
    "import matplotlib.pyplot as plt\n",
    "%matplotlib inline "
   ]
  },
  {
   "cell_type": "code",
   "execution_count": 2,
   "metadata": {
    "collapsed": false
   },
   "outputs": [
    {
     "name": "stdout",
     "output_type": "stream",
     "text": [
      "     0    1    2    3            4\n",
      "0  5.1  3.5  1.4  0.2  Iris-setosa\n",
      "1  4.9  3.0  1.4  0.2  Iris-setosa\n",
      "2  4.7  3.2  1.3  0.2  Iris-setosa\n",
      "3  4.6  3.1  1.5  0.2  Iris-setosa\n",
      "4  5.0  3.6  1.4  0.2  Iris-setosa\n"
     ]
    }
   ],
   "source": [
    "# Read dataset in dataframe\n",
    "df = pd.read_csv('../DATASETS/iris_dataset.csv',header=None).dropna()\n",
    "print(df.head())"
   ]
  },
  {
   "cell_type": "code",
   "execution_count": 3,
   "metadata": {
    "collapsed": false
   },
   "outputs": [],
   "source": [
    "# Design matrix and target vector\n",
    "X = df.loc[:,:3].values\n",
    "y = df.loc[:,4].values\n",
    "# Scale design matrix (X) entries from 0 to 1\n",
    "from sklearn.preprocessing import MinMaxScaler\n",
    "scaler = MinMaxScaler(copy=True, feature_range=(0,1))\n",
    "X = scaler.fit_transform(X)\n",
    "# Encode target vector (y) with dummy variables (one-hot encoding)\n",
    "from sklearn.preprocessing import LabelBinarizer\n",
    "encoder = LabelBinarizer()\n",
    "y = encoder.fit_transform(y)"
   ]
  },
  {
   "cell_type": "code",
   "execution_count": 4,
   "metadata": {
    "collapsed": false
   },
   "outputs": [],
   "source": [
    "# Function to shuffle data\n",
    "def _shuffle(X,y):\n",
    "    idx = np.arange(len(y))\n",
    "    np.random.shuffle(idx)    \n",
    "    return(X[idx,:], y[idx,:])\n",
    "# Function to split data set into training and cross-validation (or test) data sets\n",
    "# p_train is the percentage of the data set used as training (default is 80%)\n",
    "def _split(X,y,p_train=0.8):\n",
    "    idx = int(len(y) * p_train)\n",
    "    Xtrain = X[:idx,:]\n",
    "    ytrain = y[:idx,:]\n",
    "    Xcv = X[idx:,:]\n",
    "    ycv = y[idx:,:]\n",
    "    return Xtrain, ytrain, Xcv, ycv\n",
    "\n",
    "# Shuffle data randomly\n",
    "np.random.seed(12365)\n",
    "X,y = _shuffle(X,y)\n",
    "# Split in training and cross validation sets\n",
    "Xtrain, ytrain, Xcv, ycv = _split(X,y)"
   ]
  },
  {
   "cell_type": "markdown",
   "metadata": {},
   "source": [
    "<h2> Training with Keras </h2>"
   ]
  },
  {
   "cell_type": "markdown",
   "metadata": {},
   "source": [
    "Here we train a one hidden layer neural network with Keras. We want to benchmark our network implementation with the Keras implementation, so we will use similar settings: we will use momentum (not accelerated nesterov momentum), the learning rate will be constant (no decay), the loss function will be the mean squared error, we will use gradient descent for back-propagation, and the activation function will be the sigmoid."
   ]
  },
  {
   "cell_type": "code",
   "execution_count": 5,
   "metadata": {
    "collapsed": false
   },
   "outputs": [
    {
     "name": "stderr",
     "output_type": "stream",
     "text": [
      "Using TensorFlow backend.\n"
     ]
    },
    {
     "name": "stdout",
     "output_type": "stream",
     "text": [
      "Epoch 1/10\n",
      "120/120 [==============================] - 0s - loss: 0.2297 - acc: 0.3833         \b\b\b\b\b\b\b\b\b\b\b\b\b\b\b\b\b\b\b\b\b\b\b\b\b\b\b\b\b\b\b\b\b\b\b\b\b\b\b\b\b\b\b\b\b\b\b\b\b\b\b\b\b\b\b\b\b\b\b\b\b\b\b\b\b\b\b\b\b\b\b\b\b\b\b\b\b\b\b\b\b\b\b\b\b\b\b\b\b\b\b\b\b\b\b\b\b\b\b\b\b\b\b\b\b\b\b\b\b\b\b\b\b\b\b\b\b\b\b\b\b\b\b\b\b\b\b\b\b\b\b\b\b\b\b\b\b\b\b\b\b\b\b\b\b\b\b\b\b\b\b\b\b\b\b\b\b\b\b\b\b\b\n",
      "Epoch 2/10\n",
      "120/120 [==============================] - 0s - loss: 0.1687 - acc: 0.6500         \b\b\b\b\b\b\b\b\b\b\b\b\b\b\b\b\b\b\b\b\b\b\b\b\b\b\b\b\b\b\b\b\b\b\b\b\b\b\b\b\b\b\b\b\b\b\b\b\b\b\b\b\b\b\b\b\b\b\b\b\b\b\b\b\b\b\b\b\b\b\b\b\b\b\b\b\b\b\b\b\b\b\b\b\b\b\b\b\b\b\b\b\b\b\b\b\b\b\b\b\b\b\b\b\b\b\b\b\b\b\b\b\b\b\b\b\b\b\b\b\b\b\b\b\b\b\b\b\b\b\b\b\b\b\b\b\b\b\b\b\b\b\b\b\b\b\b\b\b\b\b\b\b\b\b\b\b\b\b\b\b\b\n",
      "Epoch 3/10\n",
      "120/120 [==============================] - 0s - loss: 0.1274 - acc: 0.6917     \b\b\b\b\b\b\b\b\b\b\b\b\b\b\b\b\b\b\b\b\b\b\b\b\b\b\b\b\b\b\b\b\b\b\b\b\b\b\b\b\b\b\b\b\b\b\b\b\b\b\b\b\b\b\b\b\b\b\b\b\b\b\b\b\b\b\b\b\b\b\b\b\b\b\b\b\b\b\b\b\b\b\b\b\b\b\b\b\b\b\b\b\b\b\b\b\b\b\b\b\b\b\b\b\b\b\b\b\b\b\b\b\b\b\b\b\b\b\b\b\b\b\b\b\b\b\b\b\b\b\b\b\b\b\b\b\b\b\b\b\b\b\b\b\b\b\b\b\b\b\b\b\b\b\b\b\b\b\n",
      "Epoch 4/10\n",
      "120/120 [==============================] - 0s - loss: 0.1091 - acc: 0.7250     \b\b\b\b\b\b\b\b\b\b\b\b\b\b\b\b\b\b\b\b\b\b\b\b\b\b\b\b\b\b\b\b\b\b\b\b\b\b\b\b\b\b\b\b\b\b\b\b\b\b\b\b\b\b\b\b\b\b\b\b\b\b\b\b\b\b\b\b\b\b\b\b\b\b\b\b\b\b\b\b\b\b\b\b\b\b\b\b\b\b\b\b\b\b\b\b\b\b\b\b\b\b\b\b\b\b\b\b\b\b\b\b\b\b\b\b\b\b\b\b\b\b\b\b\b\b\b\b\b\b\b\b\b\b\b\b\b\b\b\b\b\b\b\b\b\b\b\b\b\b\b\b\b\b\b\b\b\b\n",
      "Epoch 5/10\n",
      "120/120 [==============================] - 0s - loss: 0.1020 - acc: 0.8333     \b\b\b\b\b\b\b\b\b\b\b\b\b\b\b\b\b\b\b\b\b\b\b\b\b\b\b\b\b\b\b\b\b\b\b\b\b\b\b\b\b\b\b\b\b\b\b\b\b\b\b\b\b\b\b\b\b\b\b\b\b\b\b\b\b\b\b\b\b\b\b\b\b\b\b\b\b\b\b\b\b\b\b\b\b\b\b\b\b\b\b\b\b\b\b\b\b\b\b\b\b\b\b\b\b\b\b\b\b\b\b\b\b\b\b\b\b\b\b\b\b\b\b\b\b\b\b\b\b\b\b\b\b\b\b\b\b\b\b\b\b\b\b\b\b\b\b\b\b\b\b\b\b\b\b\b\b\b\n",
      "Epoch 6/10\n",
      "120/120 [==============================] - 0s - loss: 0.0930 - acc: 0.7917     \b\b\b\b\b\b\b\b\b\b\b\b\b\b\b\b\b\b\b\b\b\b\b\b\b\b\b\b\b\b\b\b\b\b\b\b\b\b\b\b\b\b\b\b\b\b\b\b\b\b\b\b\b\b\b\b\b\b\b\b\b\b\b\b\b\b\b\b\b\b\b\b\b\b\b\b\b\b\b\b\b\b\b\b\b\b\b\b\b\b\b\b\b\b\b\b\b\b\b\b\b\b\b\b\b\b\b\b\b\b\b\b\b\b\b\b\b\b\b\b\b\b\b\b\b\b\b\b\b\b\b\b\b\b\b\b\b\b\b\b\b\b\b\b\b\b\b\b\b\b\b\b\b\b\b\b\b\b\n",
      "Epoch 7/10\n",
      "120/120 [==============================] - 0s - loss: 0.0936 - acc: 0.7917     \b\b\b\b\b\b\b\b\b\b\b\b\b\b\b\b\b\b\b\b\b\b\b\b\b\b\b\b\b\b\b\b\b\b\b\b\b\b\b\b\b\b\b\b\b\b\b\b\b\b\b\b\b\b\b\b\b\b\b\b\b\b\b\b\b\b\b\b\b\b\b\b\b\b\b\b\b\b\b\b\b\b\b\b\b\b\b\b\b\b\b\b\b\b\b\b\b\b\b\b\b\b\b\b\b\b\b\b\b\b\b\b\b\b\b\b\b\b\b\b\b\b\b\b\b\b\b\b\b\b\b\b\b\b\b\b\b\b\b\b\b\b\b\b\b\b\b\b\b\b\b\b\b\b\b\b\b\b\n",
      "Epoch 8/10\n",
      "120/120 [==============================] - 0s - loss: 0.0912 - acc: 0.8250     \b\b\b\b\b\b\b\b\b\b\b\b\b\b\b\b\b\b\b\b\b\b\b\b\b\b\b\b\b\b\b\b\b\b\b\b\b\b\b\b\b\b\b\b\b\b\b\b\b\b\b\b\b\b\b\b\b\b\b\b\b\b\b\b\b\b\b\b\b\b\b\b\b\b\b\b\b\b\b\b\b\b\b\b\b\b\b\b\b\b\b\b\b\b\b\b\b\b\b\b\b\b\b\b\b\b\b\b\b\b\b\b\b\b\b\b\b\b\b\b\b\b\b\b\b\b\b\b\b\b\b\b\b\b\b\b\b\b\b\b\b\b\b\b\b\b\b\b\b\b\b\b\b\b\b\b\b\b\n",
      "Epoch 9/10\n",
      "120/120 [==============================] - 0s - loss: 0.0820 - acc: 0.9000     \b\b\b\b\b\b\b\b\b\b\b\b\b\b\b\b\b\b\b\b\b\b\b\b\b\b\b\b\b\b\b\b\b\b\b\b\b\b\b\b\b\b\b\b\b\b\b\b\b\b\b\b\b\b\b\b\b\b\b\b\b\b\b\b\b\b\b\b\b\b\b\b\b\b\b\b\b\b\b\b\b\b\b\b\b\b\b\b\b\b\b\b\b\b\b\b\b\b\b\b\b\b\b\b\b\b\b\b\b\b\b\b\b\b\b\b\b\b\b\b\b\b\b\b\b\b\b\b\b\b\b\b\b\b\b\b\b\b\b\b\b\b\b\b\b\b\b\b\b\b\b\b\b\b\b\b\b\b\n",
      "Epoch 10/10\n",
      "120/120 [==============================] - 0s - loss: 0.0809 - acc: 0.9000     \b\b\b\b\b\b\b\b\b\b\b\b\b\b\b\b\b\b\b\b\b\b\b\b\b\b\b\b\b\b\b\b\b\b\b\b\b\b\b\b\b\b\b\b\b\b\b\b\b\b\b\b\b\b\b\b\b\b\b\b\b\b\b\b\b\b\b\b\b\b\b\b\b\b\b\b\b\b\b\b\b\b\b\b\b\b\b\b\b\b\b\b\b\b\b\b\b\b\b\b\b\b\b\b\b\b\b\b\b\b\b\b\b\b\b\b\b\b\b\b\b\b\b\b\b\b\b\b\b\b\b\b\b\b\b\b\b\b\b\b\b\b\b\b\b\b\b\b\b\b\b\b\b\b\b\b\b\b\n",
      "Accuracy on dataset: 82.50 %\n",
      "Accuracy on dataset: 76.67 %\n"
     ]
    }
   ],
   "source": [
    "# Get accuracy on a given dataset\n",
    "def _test(nnet, X, y, verbose=False):\n",
    "    ypred = [np.argmax(i) for i in nnet.predict(X, batch_size=1)]\n",
    "    y = [np.argmax(i) for i in y]\n",
    "    success = np.nansum([1 for i in range(len(y)) if y[i] == ypred[i]])\n",
    "    if verbose:\n",
    "        print(\"Accuracy on dataset: %5.2f %%\" % (100*np.divide(success,len(ypred))))\n",
    "    return 100*np.divide(success,len(ypred))\n",
    "\n",
    "# Keras implementation\n",
    "from keras.models import Sequential\n",
    "from keras.layers import Dense\n",
    "from keras.optimizers import SGD\n",
    "\n",
    "nnet = Sequential()\n",
    "# Hidden layer\n",
    "nnet.add(Dense(10, input_dim=X.shape[1], activation='sigmoid'))\n",
    "# Output layer\n",
    "nnet.add(Dense(3, activation='sigmoid'))\n",
    "# Set optimizer parameters\n",
    "sgd = SGD(decay=0.0, lr=0.1, nesterov=False, momentum=0.9)\n",
    "# Compile and set the loss function\n",
    "nnet.compile(loss=\"mean_squared_error\", optimizer=sgd, metrics=['accuracy'])\n",
    "\n",
    "# Train online for 10 epochs\n",
    "nnet.fit(Xtrain,ytrain,epochs=10,shuffle=True, verbose=1, batch_size=1)\n",
    "acc_train = _test(nnet, Xtrain, ytrain, verbose=True)\n",
    "# Test on cross validation set\n",
    "acc_cv = _test(nnet, Xcv, ycv, verbose=True)"
   ]
  },
  {
   "cell_type": "markdown",
   "metadata": {},
   "source": [
    "Depending on the random initialization of the network weights and the shuffling of the data set, we might be lucky enough to obtain good accuracy both on the train and on the cross-validation data sets. However, we might want a more robust estimate of our accuracy. To do so we can perform bootstrapping: we train our model $K$ times, each time we initialize the nnet weights differently and we shuffle and split the data in a different way. The final accuracy would then be an average of the accuracies during the bootstrapping procedure. "
   ]
  },
  {
   "cell_type": "code",
   "execution_count": 6,
   "metadata": {
    "collapsed": false
   },
   "outputs": [
    {
     "name": "stdout",
     "output_type": "stream",
     "text": [
      "98.33 % -- 96.67 %\n",
      "96.67 % -- 96.67 %\n",
      "97.50 % -- 96.67 %\n",
      "92.50 % -- 90.00 %\n",
      "96.67 % -- 96.67 %\n",
      "95.83 % -- 100.00 %\n",
      "96.67 % -- 96.67 %\n",
      "96.67 % -- 96.67 %\n",
      "95.83 % -- 93.33 %\n",
      "96.67 % -- 96.67 %\n",
      "97.50 % -- 100.00 %\n",
      "98.33 % -- 100.00 %\n",
      "97.50 % -- 100.00 %\n",
      "94.17 % -- 93.33 %\n",
      "95.83 % -- 100.00 %\n",
      "95.00 % -- 96.67 %\n",
      "92.50 % -- 96.67 %\n",
      "97.50 % -- 96.67 %\n",
      "95.00 % -- 93.33 %\n",
      "95.00 % -- 100.00 %\n",
      "\n",
      "Mean accuracy on train: 96.08 % +/-  1.63 %\n",
      "Mean accuracy on cv: 96.83 % +/-  2.68 %\n"
     ]
    }
   ],
   "source": [
    "# Perform Bootstrapping\n",
    "K = 20\n",
    "acc_cv = []\n",
    "acc_train = []\n",
    "for k in range(K):\n",
    "    # Shuffle data randomly\n",
    "    X,y = _shuffle(X,y)\n",
    "    # Split in training and cross validation sets\n",
    "    Xtrain, ytrain, Xcv, ycv = _split(X,y,p_train=0.8)\n",
    "    # Train model again\n",
    "    nnet = Sequential()\n",
    "    nnet.add(Dense(10, input_dim=X.shape[1], activation='sigmoid'))\n",
    "    nnet.add(Dense(3, activation='sigmoid'))\n",
    "    sgd = SGD(decay=0.0, lr=0.1, nesterov=False, momentum=0.9)\n",
    "    nnet.compile(loss=\"mean_squared_error\", optimizer=sgd, metrics=['accuracy'])\n",
    "    # Train online for 10 epochs\n",
    "    nnet.fit(Xtrain,ytrain,epochs=50,shuffle=True, verbose=0, batch_size=1)\n",
    "    acc_train.append(_test(nnet, Xtrain, ytrain)) \n",
    "    acc_cv.append(_test(nnet, Xcv, ycv)) \n",
    "    print(\"%5.2f %% -- %5.2f %%\" % (acc_train[k],acc_cv[k]))\n",
    "print(\"\\nMean accuracy on train: %5.2f %% +/- %5.2f %%\" % (np.mean(acc_train),np.std(acc_train)))\n",
    "print(\"Mean accuracy on cv: %5.2f %% +/- %5.2f %%\" % (np.mean(acc_cv),np.std(acc_cv)))"
   ]
  },
  {
   "cell_type": "markdown",
   "metadata": {},
   "source": [
    "The accuracy on the train and cross-validation sets are similar, meaning we are not overfitting the network on the training data set."
   ]
  },
  {
   "cell_type": "markdown",
   "metadata": {},
   "source": [
    "<h2> Training our \"from scratch\" neural network </h2>"
   ]
  },
  {
   "cell_type": "markdown",
   "metadata": {},
   "source": [
    "Here we repeat the above training, but with the neural network we have implemented from scratch using the same parameters we used for the Keras model. Hopefully we will get similar results!"
   ]
  },
  {
   "cell_type": "code",
   "execution_count": 7,
   "metadata": {
    "collapsed": false
   },
   "outputs": [
    {
     "name": "stdout",
     "output_type": "stream",
     "text": [
      "Accuracy on train set:  0.97 %\n",
      "Accuracy on cv set:  1.00 %\n",
      "Total loss: 0.038918 \n"
     ]
    }
   ],
   "source": [
    "# Set parameters\n",
    "learning_rate = 0.1\n",
    "n_epochs = 100\n",
    "momentum = 0.9\n",
    "n_hidden_nodes = 10\n",
    "\n",
    "neural_net = libnn.network(n_input=Xtrain.shape[1], n_output=ytrain.shape[1], n_hidden=n_hidden_nodes)\n",
    "cverror = neural_net.train(Xtrain, ytrain, xtest=Xcv, ytest=ycv, lrate = learning_rate,maxIter = n_epochs, opt = 'SGD', mom = momentum, \n",
    "                 verbose = False, reshuffle = True)\n",
    "\n",
    "print(\"Accuracy on train set: %5.2f %%\" % neural_net.getAccuracy(Xtrain,ytrain))\n",
    "print(\"Accuracy on cv set: %5.2f %%\" % neural_net.getAccuracy(Xcv,ycv))\n",
    "print(\"Total loss: %f \" % neural_net.getError(Xtrain,ytrain))"
   ]
  },
  {
   "cell_type": "markdown",
   "metadata": {},
   "source": [
    "We can further explore the behaviour of the network by plotting the error (cv and train) with respect to the training epoch:"
   ]
  },
  {
   "cell_type": "code",
   "execution_count": 8,
   "metadata": {
    "collapsed": false
   },
   "outputs": [
    {
     "data": {
      "image/png": "[encoded data removed]",
      "text/plain": [
       "<matplotlib.figure.Figure at 0x7f7db84736a0>"
      ]
     },
     "metadata": {},
     "output_type": "display_data"
    }
   ],
   "source": [
    "fig,ax = plt.subplots(figsize=(10,7))\n",
    "\n",
    "ax.plot(np.arange(len(neural_net.error)),neural_net.error,lw=2.0,color='blue',label='$\\\\rm{Test\\ set\\ loss}$')\n",
    "ax.plot(np.arange(len(cverror)),cverror,color='red',lw=2.0,label='$\\\\rm{Cross-validation\\ set\\ loss}$')\n",
    "ax.set_xticklabels(['$'+str(int(i))+'$' for i in ax.get_xticks()],fontsize=20)\n",
    "ax.set_yticklabels(['$'+str((i))+'$' for i in ax.get_yticks()],fontsize=20)\n",
    "ax.set_xlabel(\"$\\\\rm{Epoch}$\",fontsize=20)\n",
    "ax.set_ylabel(\"$\\\\rm{Loss}$\",fontsize=20)\n",
    "ax.legend(loc='upper right', frameon=False, fontsize=20)\n",
    "plt.show()"
   ]
  },
  {
   "cell_type": "markdown",
   "metadata": {},
   "source": [
    "The loss for both the training and cross-validation sets decreases as we train the network for more and more epochs. The loss between the two sets is comparable, showing we are not overfitting to the training data set. We also observe some fluctuations in the loss, which are due to the re-shuffling of the training data set at each epoch: re-shuffling helps to avoid correlations between the data."
   ]
  },
  {
   "cell_type": "markdown",
   "metadata": {},
   "source": [
    "We can now perform bootstrapping to obtain a more robust estimate of the accuracy of our network."
   ]
  },
  {
   "cell_type": "code",
   "execution_count": 9,
   "metadata": {
    "collapsed": false
   },
   "outputs": [
    {
     "name": "stdout",
     "output_type": "stream",
     "text": [
      " 0.94 % --  0.97 %\n",
      " 0.97 % --  0.97 %\n",
      " 0.97 % --  1.00 %\n",
      " 0.97 % --  1.00 %\n",
      " 0.96 % --  1.00 %\n",
      " 0.95 % --  1.00 %\n",
      " 0.99 % --  0.93 %\n",
      " 0.96 % --  0.93 %\n",
      " 0.97 % --  0.93 %\n",
      " 0.94 % --  0.90 %\n",
      " 0.96 % --  0.97 %\n",
      " 0.99 % --  0.97 %\n",
      " 0.97 % --  0.93 %\n",
      " 0.97 % --  0.93 %\n",
      " 0.97 % --  0.97 %\n",
      " 0.96 % --  1.00 %\n",
      " 0.96 % --  0.93 %\n",
      " 0.98 % --  0.97 %\n",
      " 0.97 % --  0.97 %\n",
      " 0.93 % --  0.93 %\n",
      "\n",
      "Mean accuracy on train:  0.96 % +/-  0.02 %\n",
      "Mean accuracy on cv:  0.96 % +/-  0.03 %\n"
     ]
    }
   ],
   "source": [
    "# Set parameters\n",
    "learning_rate = 0.1\n",
    "n_epochs = 50\n",
    "momentum = 0.9\n",
    "n_hidden_nodes = 10\n",
    "# Perform Bootstrapping\n",
    "K = 20\n",
    "acc_cv = []\n",
    "acc_train = []\n",
    "for k in range(K):\n",
    "    # Shuffle data randomly\n",
    "    X,y = _shuffle(X,y)\n",
    "    # Split in training and cross validation sets\n",
    "    Xtrain, ytrain, Xcv, ycv = _split(X,y,p_train=0.8)\n",
    "    # Train model again\n",
    "    neural_net = libnn.network(n_input=Xtrain.shape[1], n_output=ytrain.shape[1], n_hidden=n_hidden_nodes)\n",
    "    neural_net.train(Xtrain, ytrain,lrate = learning_rate,maxIter = n_epochs, opt = 'SGD', mom = momentum, \n",
    "                 verbose = False, reshuffle = True)\n",
    "    acc_train.append(neural_net.getAccuracy(Xtrain,ytrain)) \n",
    "    acc_cv.append(neural_net.getAccuracy(Xcv,ycv)) \n",
    "    print(\"%5.2f %% -- %5.2f %%\" % (acc_train[k],acc_cv[k]))\n",
    "print(\"\\nMean accuracy on train: %5.2f %% +/- %5.2f %%\" % (np.mean(acc_train),np.std(acc_train)))\n",
    "print(\"Mean accuracy on cv: %5.2f %% +/- %5.2f %%\" % (np.mean(acc_cv),np.std(acc_cv)))"
   ]
  },
  {
   "cell_type": "markdown",
   "metadata": {
    "collapsed": false
   },
   "source": [
    "Accuracies on both training and cross-validation sets look good and similar, meaning we are not overfitting the network to the training data set. Also, the values are pretty similar to the ones obtained with Keras, which is definitely good news! "
   ]
  }
 ],
 "metadata": {
  "kernelspec": {
   "display_name": "Python 3",
   "language": "python",
   "name": "python3"
  },
  "language_info": {
   "codemirror_mode": {
    "name": "ipython",
    "version": 3
   },
   "file_extension": ".py",
   "mimetype": "text/x-python",
   "name": "python",
   "nbconvert_exporter": "python",
   "pygments_lexer": "ipython3",
   "version": "3.5.2"
  }
 },
 "nbformat": 4,
 "nbformat_minor": 2
}
