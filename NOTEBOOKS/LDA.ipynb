{
 "cells": [
  {
   "cell_type": "markdown",
   "metadata": {},
   "source": [
    "<script type=\"text/x-mathjax-config\">\n",
    "MathJax.Hub.Config({\n",
    "  TeX: { equationNumbers: { autoNumber: \"AMS\" } }\n",
    "});\n",
    "</script>"
   ]
  },
  {
   "cell_type": "markdown",
   "metadata": {},
   "source": [
    "<h1> Latend Dirichlet Allocation (LDA) in python from scratch </h1> \n",
    "\n",
    "References:\n",
    "<ul>\n",
    "<li>[1] <a href=\"http://psiexp.ss.uci.edu/research/papers/SteyversGriffithsLSABookFormatted.pdf\">Probabilistic Topic Models</a> (Theory)</li>\n",
    "<li>[2] <a href=\"http://psiexp.ss.uci.edu/research/papers/sciencetopics.pdf\">Finding scientific topics</a> (Theory)</li>\n",
    "<li>[3] <a href=\"http://ailab.chonbuk.ac.kr/seminar_board/pds1_files/darling-lda_Collapsed_GIBBS_sampling.pdf\">A Theoretical and Practical Implementation Tutorial on Topic Modeling and Gibbs Sampling</a> (Theory and pseudo-code)</li>\n",
    "<li>[4] <a href=\"http://brooksandrew.github.io/simpleblog/articles/latent-dirichlet-allocation-under-the-hood/\">Latent Dirichlet Allocation - under the hood</a> (Tutorial with code in R)</li>\n",
    "</ul>\n",
    "\n",
    "Libraries needed: <i>numpy</i>, <i>pandas</i>, <i>matplotlib</i>, <i>nltk</i> with the package <i>stopwords</i>."
   ]
  },
  {
   "cell_type": "markdown",
   "metadata": {},
   "source": [
    "<h3>The goal </h3>\n",
    "\n",
    "The goal of LDA is, given a set of documents (the <i>corpus</i>), to model the distribution of topics ($\\theta$) across the documents and the distribution of words ($\\phi$) across topics.\n",
    "\n",
    "<h3>The input</h3>\n",
    "\n",
    "For this example I will use 6 sentences (documents) as input. The documents are the following:\n",
    "\n",
    "<ul>\n",
    "<li>Doc.0: <i>The dog plays with the cat on the mountain, while the hyppo fights the lion in the forest.</i></li>\n",
    "<li>Doc.1: <i>in the forest and the jungle, wild cats and lions eat birds' eggs</i></li>\n",
    "<li>Doc.2: <i>The mountain is full of bears, wolfs, birds and ducks. Fish lay eggs in the river, while cats and hyppos play together</i></li>\n",
    "<li>Doc.3: <i>I like eggs and waffles for breakfast, but I could eat cheese, pizza and mayo too.</i></li>\n",
    "<li>Doc.4: <i>Only veggies for lunch, but I am craving pizza and cheese.</i></li>\n",
    "<li>Doc.5: <i>Let's make fish for dinner, with bread, cheese, fruit, chocolate and gelato for dessert.</i></li>\n",
    "</ul>\n",
    "\n",
    "Clearly the first three sentences talk about animals, while the last three about food. Some of the words, e.g. <i>eggs</i>,<i>fish</i> and <i>eat</i>, can be used for both topics.\n",
    "\n",
    "<h3>1. First things first: cleaning the text</h3>\n",
    "\n",
    "As a first step we need to \"clean\" the corpus. What we want to do is:\n",
    "<ol>\n",
    "<li>Strip punctuation and transform all characters to lower case;</li>\n",
    "<li>Split each document in a list of words;</li>\n",
    "<li>Strip stop words, i.e. words like <i>for,but,in,on,a,the,...</i> which cannot really be associated to any specific topic;</li>\n",
    "<li>Stem our words (optional);</li>\n",
    "<li>Select only the most significant words, i.e. the words which appear the most in the corpus (optional, useful with large documents).</li>\n",
    "</ol>\n",
    "\n",
    "In what follows I implemented functions to perform steps from 1 to 4. Since we only have 6 sentences, the last step (5) is not necessary and I did not implemented it."
   ]
  },
  {
   "cell_type": "code",
   "execution_count": 1,
   "metadata": {},
   "outputs": [],
   "source": [
    "# Import libraries\n",
    "import string\n",
    "#from string import maketrans\n",
    "from nltk.corpus import stopwords\n",
    "from nltk.stem.snowball import SnowballStemmer\n",
    "from collections import OrderedDict\n",
    "from collections import Counter\n",
    "import numpy as np\n",
    "import pandas as pd\n",
    "import matplotlib.pyplot as plt\n",
    "from pylab import *\n",
    "from matplotlib import rc\n",
    "import matplotlib.lines as mlines\n",
    "%matplotlib inline"
   ]
  },
  {
   "cell_type": "code",
   "execution_count": 2,
   "metadata": {
    "collapsed": true
   },
   "outputs": [],
   "source": [
    "# Function to clean the corpus: the corpus is a list of documents\n",
    "def cleanCorpus(corpus,strip_punct=True,strip_stop=True,stem=True):\n",
    "    # Strip punctuation and transform to lower case\n",
    "    if (strip_punct):\n",
    "        corpus = stripPunctuation(corpus)\n",
    "    # Split each document in the corpus to a list of words\n",
    "    corpus = splitCorpus(corpus)\n",
    "    # Strip stop words\n",
    "    if (strip_stop):\n",
    "        corpus = stripStopWords(corpus)\n",
    "    # Stem using snowball stemmer\n",
    "    if (stem):\n",
    "        corpus = stemCorpus(corpus)\n",
    "    \n",
    "    return corpus\n",
    "    \n",
    "# Strip punctuation and special characters\n",
    "def stripPunctuation(corpus):\n",
    "    intab = \",.><?:;\\\"\\'[]-_=+)(*&^%$#@!`~/|}{//\" # Punctuation table\n",
    "    outtab = \"\"\n",
    "    for c in intab:\n",
    "        outtab += \" \"\n",
    "    doc = []\n",
    "    translator = str.maketrans(intab, outtab, string.punctuation)\n",
    "    for d in corpus:\n",
    "        doc.append(d.translate(translator).lower())\n",
    "    return doc\n",
    "\n",
    "# Split the list of documents in a list of lists\n",
    "def splitCorpus(corpus):\n",
    "    doc = []\n",
    "    for d in corpus:\n",
    "        doc.append(d.split(\" \"))\n",
    "    return doc\n",
    "\n",
    "# Strip stop words from corpus\n",
    "def stripStopWords(corpus):\n",
    "    stop = set(stopwords.words('english'))\n",
    "    doc = []\n",
    "    for d in corpus:\n",
    "        doc.append(filter(lambda w: not w in stop,d))\n",
    "    return doc\n",
    "\n",
    "# Stem corpus using snowball stemmer\n",
    "def stemCorpus(corpus):\n",
    "    stemmer = SnowballStemmer(\"english\")\n",
    "    doc = []\n",
    "    for d in corpus: # loop over documents\n",
    "        dnew = []\n",
    "        for s in d: # loop over strings in the document\n",
    "            s = stemmer.stem(s)\n",
    "            dnew.append(s)\n",
    "        doc.append(dnew)\n",
    "    \n",
    "    return doc\n",
    "\n",
    "# Convert list of lists in a flat list\n",
    "def c_flatten(corpus):\n",
    "    return [w for d in corpus for w in d]"
   ]
  },
  {
   "cell_type": "code",
   "execution_count": 3,
   "metadata": {},
   "outputs": [
    {
     "name": "stdout",
     "output_type": "stream",
     "text": [
      "['The dog plays with the cat on the mountain, while the hyppo fights the lion in the forest.', \"in the forest and the jungle, wild cats and lions eat birds' eggs\", 'The mountain is full of bears, wolfs, birds and ducks. Fish lay eggs in the river, while cats and hyppos play together', 'I like eggs and waffles for breakfast, but I could eat cheese, pizza and mayo too.', 'Only veggies for lunch, but I am craving pizza and cheese.', \"Let's make fish for dinner, with bread, cheese, fruit, chocolate and gelato for dessert.\"]\n"
     ]
    }
   ],
   "source": [
    "# Create list of documents\n",
    "doc = []\n",
    "doc.append(\"The dog plays with the cat on the mountain, while the hyppo fights the lion in the forest.\")\n",
    "doc.append(\"in the forest and the jungle, wild cats and lions eat birds' eggs\")\n",
    "doc.append(\"The mountain is full of bears, wolfs, birds and ducks. Fish lay eggs in the river, while cats and hyppos play together\")\n",
    "doc.append(\"I like eggs and waffles for breakfast, but I could eat cheese, pizza and mayo too.\")\n",
    "doc.append(\"Only veggies for lunch, but I am craving pizza and cheese.\")\n",
    "doc.append(\"Let's make fish for dinner, with bread, cheese, fruit, chocolate and gelato for dessert.\")\n",
    "\n",
    "print (doc)"
   ]
  },
  {
   "cell_type": "code",
   "execution_count": 4,
   "metadata": {},
   "outputs": [
    {
     "name": "stdout",
     "output_type": "stream",
     "text": [
      "[['dog', 'play', 'cat', 'mountain', 'hyppo', 'fight', 'lion', 'forest'], ['forest', 'jungl', 'wild', 'cat', 'lion', 'eat', 'bird', 'egg'], ['mountain', 'full', 'bear', 'wolf', 'bird', 'duck', 'fish', 'lay', 'egg', 'river', 'cat', 'hyppo', 'play', 'togeth'], ['like', 'egg', 'waffl', 'breakfast', 'could', 'eat', 'chees', 'pizza', 'mayo'], ['veggi', 'lunch', 'crave', 'pizza', 'chees'], ['let', 'make', 'fish', 'dinner', 'bread', 'chees', 'fruit', 'chocol', 'gelato', 'dessert']]\n"
     ]
    }
   ],
   "source": [
    "# Clean from punctuation, stop words, split and stem\n",
    "doc = cleanCorpus(doc,stem=True)\n",
    "print (doc)"
   ]
  },
  {
   "cell_type": "markdown",
   "metadata": {},
   "source": [
    "<h3> 2. The Dirichlet distribution </h3>\n",
    "\n",
    "The distributions of topics and words can be modeled using a Dirichlet distribution. The probability density of a $T$ dimensional Dirichlet distribution over the multinomial distribution $p=(p_1,p_2,...,p_T)$ is defined by <a href=\"http://psiexp.ss.uci.edu/research/papers/SteyversGriffithsLSABookFormatted.pdf\">[1]</a>:\n",
    "\n",
    "\\begin{align}\\tag{1}\n",
    "\\textrm{Dir}(\\alpha_1,...,\\alpha_T)= \\frac{\\Gamma\\left(\\sum_j\\alpha_j\\right)}{\\prod_j\\Gamma\\left(\\alpha_j\\right)}\\prod_{j=1}^{T}p_j^{\\alpha_j-1},\n",
    "\\end{align}\n",
    "\n",
    "where $\\Gamma$ is the gamma function. In our case we will also use a symmetric Dirichlet distribution, meaning that we choose the concentration (hyper)parameter $\\alpha=\\alpha_1=...=\\alpha_T$. \n",
    "\n",
    "Below we can see how the Dirichled distribution varies when changing the concentration parameter.\n"
   ]
  },
  {
   "cell_type": "code",
   "execution_count": 5,
   "metadata": {},
   "outputs": [
    {
     "data": {
      "image/png": "[encoded data removed]",
      "text/plain": [
       "<matplotlib.figure.Figure at 0x7fdffdadf748>"
      ]
     },
     "metadata": {},
     "output_type": "display_data"
    }
   ],
   "source": [
    "# Experiment with dirichlet distribution\n",
    "\n",
    "# Here I plot a dirichlet distribution for 10 topics varying the concentration parameter alpha\n",
    "T = 10\n",
    "np.random.seed(123)\n",
    "\n",
    "fig = figure(figsize=(12,8))\n",
    "for i,alpha in enumerate([0.01,0.5,1.5,5.0,10.0,30.0]):\n",
    "    prob =  np.random.dirichlet(alpha * np.ones(T)).transpose()\n",
    "    sub = fig.add_subplot(2,3,i+1)\n",
    "    sub.plot(np.arange(T),prob,lw=0.0,marker='o')\n",
    "    sub.set_title(\"alpha = \" + str(alpha))\n",
    "    sub.set_ylim([0,1.1])\n",
    "    \n",
    "plt.show()"
   ]
  },
  {
   "cell_type": "markdown",
   "metadata": {},
   "source": [
    "For small values of $\\alpha$, the probability is fragmented and certain topics have very high probability, while most of them have close to zero probability. Increasing $\\alpha$, the distribution flattens and becomes more uniform. Because of the nature of the generative process of documents <a href=\"http://psiexp.ss.uci.edu/research/papers/SteyversGriffithsLSABookFormatted.pdf\">[1</a>,<a href=\"http://psiexp.ss.uci.edu/research/papers/sciencetopics.pdf\">2]</a>, when using Dirichlet distributions we will use small concentration parameters."
   ]
  },
  {
   "cell_type": "markdown",
   "metadata": {},
   "source": [
    "<h3> 3. \"Tokenizing\" the corpus </h3>\n",
    "\n",
    "Working with indices is easier than working with words. Here we count all the unique words in the corpus and we assign to each unique word an integer index. We basically build a dictionary (or mapping) between words and integers."
   ]
  },
  {
   "cell_type": "code",
   "execution_count": 6,
   "metadata": {},
   "outputs": [
    {
     "name": "stdout",
     "output_type": "stream",
     "text": [
      "Total number of words: 54\n",
      "Total number of unique words: 39\n"
     ]
    }
   ],
   "source": [
    "# Assign a token number to each unique word\n",
    "# Count unique words and setup index dictionary\n",
    "bag_words = c_flatten(doc)\n",
    "index_dict = OrderedDict()\n",
    "i = 0\n",
    "for w in bag_words:\n",
    "    if (w not in index_dict):\n",
    "        index_dict[w] = i\n",
    "        i += 1 \n",
    "print (\"Total number of words: \" + str(len(bag_words)))\n",
    "print (\"Total number of unique words: \" + str(len(index_dict)))\n"
   ]
  },
  {
   "cell_type": "markdown",
   "metadata": {},
   "source": [
    "Tokenize the corpus: substitute each word with the corresponding index value."
   ]
  },
  {
   "cell_type": "code",
   "execution_count": 7,
   "metadata": {},
   "outputs": [
    {
     "name": "stdout",
     "output_type": "stream",
     "text": [
      "[[0, 1, 2, 3, 4, 5, 6, 7], [7, 8, 9, 2, 6, 10, 11, 12], [3, 13, 14, 15, 11, 16, 17, 18, 12, 19, 2, 4, 1, 20], [21, 12, 22, 23, 24, 10, 25, 26, 27], [28, 29, 30, 26, 25], [31, 32, 17, 33, 34, 25, 35, 36, 37, 38]]\n"
     ]
    }
   ],
   "source": [
    "# Tokenize corpus\n",
    "doc_tokenized = []\n",
    "for d in doc:\n",
    "    d_new = []\n",
    "    for w in d:\n",
    "        d_new.append(index_dict[w])\n",
    "    doc_tokenized.append(d_new)\n",
    "print(doc_tokenized)"
   ]
  },
  {
   "cell_type": "markdown",
   "metadata": {},
   "source": [
    "<h3> 4. Build the word-topic and document-topic matrices </h3>\n",
    "\n",
    "By following Ref.<a href=\"http://psiexp.ss.uci.edu/research/papers/SteyversGriffithsLSABookFormatted.pdf\">[1]</a> we need to define three objects matrices:\n",
    "<ul>\n",
    "<li>The word-topic $C^{WT}\\in \\mathbb{N}^{T\\times W}$ matrix, which for each word (column) counts how many times that word has been assigned to a given topic (row). </li>\n",
    "<li>The word-topic $C^{DT}\\in \\mathbb{N}^{D\\times T}$ matrix, which for each document (row) counts by how many words a topic (column) is represented in the document itself. </li>\n",
    "<li>The assignment list $\\mathbf{z}$, where substitute each word in the corpus with the given topic assignment.</li>\n",
    "</ul>\n",
    "\n",
    "Here, $W$ is the number of unique words, $T$ is the number of topics and $D$ is the number of documents in the corpus.\n",
    "\n"
   ]
  },
  {
   "cell_type": "code",
   "execution_count": 8,
   "metadata": {},
   "outputs": [],
   "source": [
    "# Initialize word-topic (WT) matrix and topic assignment list z\n",
    "T = 2 # topics number\n",
    "W = len(index_dict) # Total number of unique words\n",
    "alpha = 0.01 #50.0 / T\n",
    "beta = 0.01\n",
    "WT = np.zeros((T,len(index_dict)),dtype=int) \n",
    "z = []\n",
    "for d in doc:\n",
    "    d_new = []\n",
    "    for w in d:\n",
    "        # Find token associated with word\n",
    "        widx = index_dict[w]\n",
    "        # Pick a topic for the word randomly\n",
    "        k = np.argmax(np.random.dirichlet(beta * np.ones(T)))\n",
    "        # Update assignment list\n",
    "        d_new.append(k)\n",
    "        # Update word-topic matrix\n",
    "        WT[k,widx] += 1\n",
    "    # Update assignment list\n",
    "    z.append(d_new)"
   ]
  },
  {
   "cell_type": "code",
   "execution_count": 9,
   "metadata": {},
   "outputs": [],
   "source": [
    "# Initialize document-topic (DT) matrix\n",
    "DT = np.zeros((len(doc),T),dtype=int)\n",
    "for didx,d in enumerate(doc):\n",
    "    for k in range(T):\n",
    "        for i in z[didx]:\n",
    "            if (i == k):\n",
    "                DT[didx,k] += 1"
   ]
  },
  {
   "cell_type": "markdown",
   "metadata": {},
   "source": [
    "<h3> 5. The LDA algorithm </h3>\n",
    "\n",
    "We can finally implement the LDA algorithm from Ref.<a href=\"http://ailab.chonbuk.ac.kr/seminar_board/pds1_files/darling-lda_Collapsed_GIBBS_sampling.pdf\">[3]</a>, where using Gibbs sampling, and iterating over the words in the corpus, we update the posterior probability of a word $i$ to be assigned to a topic $j$:\n",
    "\n",
    "\\begin{align}\\tag{2}\n",
    "\\mathbb{P}\\left(z_i=j|\\mathbf{z}_{-i},w_i,d_i,\\alpha,\\beta\\right) \\propto \\frac{C_{w_ij}^{WT} + \\beta}{\\sum_{w=1}^WC^{WT}_{wj} + W\\beta}\\frac{C^{DT}_{dj} + \\alpha}{\\sum_{t=1}^TC^{DT}_{dt}+T\\alpha}\n",
    "\\end{align}"
   ]
  },
  {
   "cell_type": "code",
   "execution_count": 10,
   "metadata": {},
   "outputs": [],
   "source": [
    "# Maximum number of iterations\n",
    "iterMax = 5000\n",
    "\n",
    "for i in range(iterMax):\n",
    "    for didx,d in enumerate(doc):\n",
    "        for wi,w in enumerate(d):\n",
    "            # Find topic of the word w\n",
    "            topic = z[didx][wi]\n",
    "            # Decrease counter matrices (exclute token w from them)\n",
    "            widx = index_dict[w]\n",
    "            WT[topic,widx] -= 1\n",
    "            DT[didx,topic] -= 1\n",
    "            # Update topic assignment for each word:\n",
    "            # Calculate posterior probability p_z\n",
    "            pz = []\n",
    "            for k in range(T):\n",
    "                den_right = T * alpha + np.sum(DT[didx,:])\n",
    "                den_left = W * beta + np.sum(WT[k,:])\n",
    "                left = (WT[k,widx] + beta) / den_left\n",
    "                right = (DT[didx,k] + alpha) / den_right\n",
    "                pz.append(left * right)\n",
    "            # Normalize posterior\n",
    "            pz = pz / np.sum(pz)\n",
    "            # Sample new topic from posterior\n",
    "            new_topic = np.random.choice(np.arange(T),p=pz)\n",
    "            z[didx][wi] = new_topic\n",
    "            # Update the counter matrices\n",
    "            WT[new_topic,widx] += 1\n",
    "            DT[didx,new_topic] += 1"
   ]
  },
  {
   "cell_type": "markdown",
   "metadata": {},
   "source": [
    "<h3> 6. Estimate $\\theta$ and $\\phi$ </h3>\n",
    "\n",
    "Having the updated word-topic and document-topic matrices, we can now calculate the word-topic ($\\phi$) and topic-document ($\\theta$) distributions via\n",
    "\n",
    "\\begin{align}\n",
    "\\tag{3}\n",
    "\\phi^{(j)}_i =& \\frac{C^{WT}_{ij}+\\beta}{\\sum_{j=1}^WC^{WT}_{kj}+W\\beta}\\\\\n",
    "\\tag{4}\n",
    "\\theta^{(d)}_j =& \\frac{C^{DT}_{dj}+\\alpha}{\\sum_{j=1}^TC^{DT}_{dk}+T\\alpha}\n",
    "\\end{align}"
   ]
  },
  {
   "cell_type": "code",
   "execution_count": 11,
   "metadata": {},
   "outputs": [],
   "source": [
    "theta = (DT + alpha)\n",
    "for d in range(DT.shape[0]):\n",
    "    theta[d,:] = theta[d,:] / (np.sum(DT[d,:]) + T * alpha)\n",
    "phi = (WT + beta)\n",
    "for k in range(T):\n",
    "    phi[k,:] = phi[k,:] / (np.sum(WT[k,:]) + W * beta)"
   ]
  },
  {
   "cell_type": "markdown",
   "metadata": {},
   "source": [
    "We can visualize the distributions to get a better idea of what the LDA algorithm found."
   ]
  },
  {
   "cell_type": "code",
   "execution_count": 12,
   "metadata": {},
   "outputs": [
    {
     "data": {
      "image/png": "[encoded data removed]",
      "text/plain": [
       "<matplotlib.figure.Figure at 0x7fdffb693cf8>"
      ]
     },
     "metadata": {},
     "output_type": "display_data"
    }
   ],
   "source": [
    "# Visualize theta distribution (topics distribution amongst documents)\n",
    "fig = figure(figsize=(12,4))\n",
    "\n",
    "sub = fig.add_subplot(121)\n",
    "for didx in range(len(doc)):\n",
    "    sub.plot(theta[didx,0],theta[didx,1],label=\"Document \" + str(didx),\n",
    "            marker='o',lw=0.0,markersize=10)\n",
    "sub.set_xlabel(\"$\\mathbb{P}(t=0)$\",fontsize=15)\n",
    "sub.set_ylabel(\"$\\mathbb{P}(t=1)$\",fontsize=15)\n",
    "sub.legend(numpoints=1,loc=\"upper right\",frameon=False,fontsize=10)\n",
    "sub.set_xlim([-0.1,1.1])\n",
    "sub.set_ylim([-0.1,1.1])\n",
    "\n",
    "# Theta distribution of topic 0\n",
    "sub = fig.add_subplot(122)\n",
    "for i in range(len(doc)):\n",
    "    sub.plot(i-0.05,theta[i,0],lw=0.0,color='blue',\n",
    "        marker='o',markersize=10)\n",
    "    sub.plot(i+0.05,theta[i,1],lw=0.0,color='red',\n",
    "        marker='o',markersize=10)\n",
    "    sub.plot([i-0.05,i-0.05],[0,theta[i,0]],color='blue',\n",
    "            lw=2.0)\n",
    "    sub.plot([i+0.05,i+0.05],[0,theta[i,1]],color='red',\n",
    "            lw=2.0)\n",
    "sub.set_xlabel(\"$\\\\rm{Doc.\\ \\#}$\",fontsize=15)\n",
    "sub.set_ylabel(\"$\\\\theta$\",fontsize=15)\n",
    "sub.set_xlim([-1,len(doc)])\n",
    "sub.set_ylim([0.0,1.3])\n",
    "\n",
    "t0 = mlines.Line2D([], [], lw=2.0 ,marker='o', color='blue', label='Topic 0')\n",
    "t1 = mlines.Line2D([], [], lw=2.0 ,marker='o', color='red', label='Topic 1')\n",
    "sub.legend(numpoints=1,loc=\"upper right\",handles=[t0,t1],frameon=False,fontsize=10)\n",
    "\n",
    "\n",
    "plt.show()"
   ]
  },
  {
   "cell_type": "markdown",
   "metadata": {},
   "source": [
    "The LDA algorithm classifies correctly all the 6 sentences. The first three are classified as \"Topic 0\" (animals) and the last three as \"Topic 1\" (food)."
   ]
  },
  {
   "cell_type": "code",
   "execution_count": 13,
   "metadata": {},
   "outputs": [
    {
     "data": {
      "image/png": "[encoded data removed]",
      "text/plain": [
       "<matplotlib.figure.Figure at 0x7fdffb76eda0>"
      ]
     },
     "metadata": {},
     "output_type": "display_data"
    }
   ],
   "source": [
    "# Visualize words distribution across topics\n",
    "fig = figure(figsize=(12,4))\n",
    "\n",
    "# Theta distribution of topic 0\n",
    "sub = fig.add_subplot(111)\n",
    "for i in range(phi.shape[1]):\n",
    "    sub.plot(i-0.05,phi[0,i],lw=0.0,color='blue',\n",
    "        marker='o',markersize=10)\n",
    "    sub.plot(i+0.05,phi[1,i],lw=0.0,color='red',\n",
    "        marker='o',markersize=10)\n",
    "    sub.plot([i-0.05,i-0.05],[0,phi[0,i]],color='blue',\n",
    "            lw=2.0)\n",
    "    sub.plot([i+0.05,i+0.05],[0,phi[1,i]],color='red',\n",
    "            lw=2.0)\n",
    "\n",
    "ticks_labels = index_dict.keys() #sub.text(i,top+0.02,index_dict.keys()[i],rotation=90)\n",
    "sub.set_xticks(np.arange(len(ticks_labels)))\n",
    "sub.set_xticklabels(ticks_labels,rotation=90)\n",
    "\n",
    "sub.set_ylabel(\"$\\\\phi$\",fontsize=15)\n",
    "sub.set_xlim([-1,phi.shape[1]])\n",
    "sub.set_ylim([0.0,0.2])\n",
    "\n",
    "t0 = mlines.Line2D([], [], lw=2.0 ,marker='o', color='blue', label='Topic 0')\n",
    "t1 = mlines.Line2D([], [], lw=2.0 ,marker='o', color='red', label='Topic 1')\n",
    "sub.legend(numpoints=1,loc=\"upper right\",handles=[t0,t1],frameon=False,fontsize=10)\n",
    "\n",
    "\n",
    "plt.show()"
   ]
  },
  {
   "cell_type": "markdown",
   "metadata": {},
   "source": [
    "The red identifies the animal topic, while the blue the food topic. As we pointed out at the beginning, there where three words that were used for both topics: eggs, eat and fish. The LDA algorithm has been able to identify these words and it assigned a probability to belong to both the topics different from zero!"
   ]
  }
 ],
 "metadata": {
  "kernelspec": {
   "display_name": "Python 3",
   "language": "python",
   "name": "python3"
  },
  "language_info": {
   "codemirror_mode": {
    "name": "ipython",
    "version": 3
   },
   "file_extension": ".py",
   "mimetype": "text/x-python",
   "name": "python",
   "nbconvert_exporter": "python",
   "pygments_lexer": "ipython3",
   "version": "3.5.3"
  }
 },
 "nbformat": 4,
 "nbformat_minor": 2
}
