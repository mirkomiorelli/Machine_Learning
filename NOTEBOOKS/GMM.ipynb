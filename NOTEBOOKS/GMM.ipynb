{
 "cells": [
  {
   "cell_type": "markdown",
   "metadata": {},
   "source": [
    "<script type=\"text/x-mathjax-config\">\n",
    "MathJax.Hub.Config({\n",
    "  TeX: { equationNumbers: { autoNumber: \"AMS\" } }\n",
    "});\n",
    "</script>"
   ]
  },
  {
   "cell_type": "markdown",
   "metadata": {},
   "source": [
    "The theory part of this tutorial has been written following Chapter 9 of Christopher M. Bishop's \"Pattern Recognition and Machine Learning\" book which is freely available <a href=\"http://users.isr.ist.utl.pt/~wurmd/Livros/school/Bishop%20-%20Pattern%20Recognition%20And%20Machine%20Learning%20-%20Springer%20%202006.pdf\">here</a>.\n",
    "\n",
    "Libraries needed: <i>numpy</i>, <i>pandas</i>, <i>matplotlib</i>"
   ]
  },
  {
   "cell_type": "markdown",
   "metadata": {},
   "source": [
    "<h1>1. Mixtures of Gaussians </h1>"
   ]
  },
  {
   "cell_type": "markdown",
   "metadata": {},
   "source": [
    "A Gaussian mixture distribution is a linear combination of Gaussians, i.e.\n",
    "\n",
    "\\begin{align}\\tag{1}\n",
    "p(\\mathbf{x})= \\sum_{k=1}^K \\pi_k\\mathcal{N}\\left(\\mathbf{x}\\left|\\mu_k,\\Sigma_k\\right.\\right).\n",
    "\\end{align}\n",
    "\n",
    "Introduce now a $K$-dimensional binary random variable $\\mathbf{z}$ for which only one of its elements is $1$ and all the others are 0. The elements of $\\mathbf{z}$ thus satisfy $\\sum_k z_k = 1$ and $z_k\\in\\left\\{0,1\\right\\}$. To get the marginal distribution of $\\mathbf{z}$, we first define\n",
    "\n",
    "\n",
    "\n",
    "\\begin{align}\\tag{2}\n",
    "p(z_k = 1) = \\pi_k, \n",
    "\\end{align}\n",
    "\n",
    "where $0 \\leq \\pi_k \\leq 1$ and $\\sum_k\\pi_k = 1$. Then, the marginal distribution of $\\mathbf{z}$ is given by\n",
    "\n",
    "\\begin{align}\\tag{3}\n",
    "p(\\mathbf{z}) = \\prod_k \\pi_k^{z_k}.\n",
    "\\end{align}\n",
    "\n",
    "In fact, only one of the elements of $\\mathbf{z}$ is non-zero, which means that if $z_i = 1$ and $z_k=0$ for $k\\neq i$, then\n",
    "\n",
    "\\begin{align}\\tag{4}\n",
    "p(\\mathbf{z}) = \\prod_k \\pi_k^{z_k} = \\pi_1^{z_1}\\pi_2^{z_2}\\cdot\\cdot\\cdot\\pi_i^{z_i}\\cdot\\cdot\\cdot = \\pi_1^{0}\\pi_2^{0}\\cdot\\cdot\\cdot\\pi_i^{1}\\cdot\\cdot\\cdot=\\pi_i = p(z_i = 1).\n",
    "\\end{align}"
   ]
  },
  {
   "cell_type": "markdown",
   "metadata": {},
   "source": [
    "We can think that the random variable $\\mathbf{z}$ tells us from which Gaussian of the linear combination in Eq.(1) a certain variable $\\mathbf{x}$ has been drawn. We can write the conditional probability distribution of $\\mathbf{x}$ given a particular value of $\\mathbf{z}$ as\n",
    "\n",
    "\\begin{align}\\tag{5}\n",
    "p(\\mathbf{x}\\left|z_k = 1\\right.) = \\mathcal{N}\\left(\\mathbf{x}\\left|\\mu_k,\\Sigma_k\\right.\\right).\n",
    "\\end{align}\n",
    "\n",
    "Following what we did to obtain Eq.(3), we can rewrite Eq.(5) as\n",
    "\n",
    "\\begin{align}\\tag{6}\n",
    "p(\\mathbf{x}\\left|\\mathbf{z}\\right.)= \\prod_{k=1}^K\\left[\\mathcal{N}\\left(\\mathbf{x}\\left|\\mu_k,\\Sigma_k\\right.\\right)\\right]^{z_k}.\n",
    "\\end{align}\n"
   ]
  },
  {
   "cell_type": "markdown",
   "metadata": {},
   "source": [
    "The marginal distribution of Eq.(1) can now be expressed as a function of our newly introduced latent variable $\\mathbf{z}$. One has\n",
    "\n",
    "\\begin{align}\\tag{7}\n",
    "p(\\mathbf{x}) = \\sum_{\\mathbf{z}}p(\\mathbf{x},\\mathbf{z}) = \\sum_{\\mathbf{z}}p(\\mathbf{x}\\left|\\mathbf{z}\\right.)p(\\mathbf{z}),\n",
    "\\end{align}\n",
    "\n",
    "and using Eq.(3) and Eq.(6) we obtain\n",
    "\n",
    "\\begin{align}\\tag{8}\n",
    "p(\\mathbf{x}) = \\sum_{k=1}^K \\pi_k\\mathcal{N}\\left(\\mathbf{x}\\left|\\mu_k,\\Sigma_k\\right.\\right),\n",
    "\\end{align}\n",
    "\n",
    "which is exactly like Eq.(1)."
   ]
  },
  {
   "cell_type": "markdown",
   "metadata": {},
   "source": [
    "We can also calculate the conditional probability of $\\mathbf{z}$ given $\\mathbf{x}$ using Bayes theorem:\n",
    "\n",
    "\\begin{align}\\tag{9}\n",
    "p(\\left.z_k = 1 \\right| \\mathbf{x}) = \\frac{p(\\mathbf{x}\\left|z_k = 1\\right.)p(z_k = 1)}{p(\\mathbf{x})},\n",
    "\\end{align}\n",
    "\n",
    "and using Eqs.(2), (5) and (8) we get\n",
    "\n",
    "\\begin{align}\\tag{10}\n",
    "\\gamma(z_k) \\equiv p(\\left.z_k = 1 \\right| \\mathbf{x}) = \\frac{\\pi_k\\mathcal{N}\\left(\\mathbf{x}\\left|\\mu_k,\\Sigma_k\\right.\\right)}{\\sum_{j=1}^K \\pi_j\\mathcal{N}\\left(\\mathbf{x}\\left|\\mu_j,\\Sigma_j\\right.\\right)}.\n",
    "\\end{align}\n",
    "\n",
    "We can interprete $p(\\mathbf{z})$ as the prior probability of $\\mathbf{z}$, and $\\gamma(z_k) \\equiv p(\\mathbf{z}|\\mathbf{x})$ as the posterior probability once $\\mathbf{x}$ has been observed."
   ]
  },
  {
   "cell_type": "markdown",
   "metadata": {},
   "source": [
    "<h1>2. Expectation-Maximization algorithm </h1>"
   ]
  },
  {
   "cell_type": "markdown",
   "metadata": {},
   "source": [
    "Suppose we draw $M$ samples from the Gaussian mixture of Eq.(1). Each sample will be a column vector in $\\mathbb{R}^N$. The samples are stored in a design matrix $X\\in\\mathbb{R}^{M\\times N}$. Likewise, for each sample $\\mathbf{x}_m$ we will have a latent variable $\\mathbf{z}_m\\in\\mathbb{R}^N$. We collect the latent variable vectors in a matrix $Z\\in\\mathbb{N}^{M\\times K}$. Then, the total distribution for our $M$ samples will be\n",
    "\n",
    "\\begin{align}\\tag{11}\n",
    "p(X)=\\prod_{m=1}^Mp(\\mathbf{x}_m) = \\prod_{m=1}^M \\sum_{k=1}^K \\pi_k\\mathcal{N}\\left(\\mathbf{x}\\left|\\mu_k,\\Sigma_k\\right.\\right).\n",
    "\\end{align}\n",
    "\n",
    "We want now to maximize this distribution wich depends on the three parameters $\\Sigma_k, \\mu_k$ and $\\pi_k$. For convenience we will consider the logarithm of the distribution,  which is given by\n",
    "\n",
    "\\begin{align}\\tag{12}\n",
    "\\log p(X) = \\sum_{m=1}^M\\log\\left[\\sum_{k=1}^K \\pi_k\\mathcal{N}\\left(\\mathbf{x}_m\\left|\\mu_k,\\Sigma_k\\right.\\right)\\right].\n",
    "\\end{align}"
   ]
  },
  {
   "cell_type": "markdown",
   "metadata": {},
   "source": [
    "As in any minimization/maximization problem, we take the derivatives of Eq.(12) and we set them to zero. "
   ]
  },
  {
   "cell_type": "markdown",
   "metadata": {},
   "source": [
    "<h3> Derivatives of the normal distribution </h3>"
   ]
  },
  {
   "cell_type": "markdown",
   "metadata": {},
   "source": [
    "Let's recall the formula for the normal distribution:\n",
    "\n",
    "\\begin{align}\\tag{13}\n",
    "\\mathcal{N}\\left(\\mathbf{x}\\left|\\mu,\\Sigma\\right.\\right) = \\frac{1}{(2\\pi)^{D/2}}\\frac{1}{\\sqrt{\\det\\Sigma}}\\exp\\left\\{-\\frac{1}{2}(\\mathbf{x}-\\mu)^T\\Sigma^{-1}(\\mathbf{x}-\\mu)\\right\\},\n",
    "\\end{align}\n",
    "\n",
    "and in components\n",
    "\n",
    "\\begin{align}\\tag{14}\n",
    "\\mathcal{N}\\left(\\mathbf{x}\\left|\\mu,\\Sigma\\right.\\right) = \\frac{1}{(2\\pi)^{D/2}}\\frac{1}{\\sqrt{\\det\\Sigma}}\\exp\\left\\{-\\frac{1}{2}\\sum_{ij}(x-\\mu)_{i}\\Sigma^{-1}_{ij}(x-\\mu)_{j}\\right\\}.\n",
    "\\end{align}\n"
   ]
  },
  {
   "cell_type": "markdown",
   "metadata": {},
   "source": [
    "The multivariate normal distribution depends on two parameters, the vector mean $\\mu\\in\\mathbb{R}^{N}$ and the covariance matrix $\\Sigma\\in\\mathbb{R}^{N\\times N}$. Here we derive the expression of the derivatives with respect of these two variables for the normal distribution in Eq.(13):\n",
    "\n",
    "\\begin{align}\\tag{15}\n",
    "\\frac{\\partial\\mathcal{N}\\left(\\mathbf{x}\\left|\\mu,\\Sigma\\right.\\right)}{\\partial \\mu_k} =& -\\frac{1}{2}\\mathcal{N}\\left(\\mathbf{x}\\left|\\mu,\\Sigma\\right.\\right)\\sum_{ij}\\left[\\delta_{ik}\\Sigma^{-1}_{ij}(x-\\mu)_j + (x-\\mu)_i\\Sigma^{-1}_{ij}\\delta_{jk}\\right] \\\\\n",
    "=& -\\frac{1}{2}\\mathcal{N}\\left(\\mathbf{x}\\left|\\mu,\\Sigma\\right.\\right)\\sum_{i}\\left(\\Sigma^{-1}_{ki} + \\Sigma^{-1}_{ik}\\right)(x-\\mu)_i\n",
    "\\end{align}\n",
    "\n",
    "and in matrix form\n",
    "\n",
    "\\begin{align}\\tag{16}\n",
    "\\nabla_\\mu \\mathcal{N}\\left(\\mathbf{x}\\left|\\mu,\\Sigma\\right.\\right) = -\\frac{1}{2}\\mathcal{N}\\left(\\mathbf{x}\\left|\\mu,\\Sigma\\right.\\right) \\left[\\Sigma^{-1} + \\left(\\Sigma^{-1}\\right)^T\\right](\\mathbf{x}-\\mu)\n",
    "\\end{align}\n"
   ]
  },
  {
   "cell_type": "markdown",
   "metadata": {},
   "source": [
    "To calculate the derivative with respect to the covariance matrix, we need to be able to calculate the derivative of the determinant which appears in the denominator of the normalization factor of Eq.(13). To do so we can use a special case of <a href=\"https://en.wikipedia.org/wiki/Jacobi%27s_formula\">Jacobi's formula</a>\n",
    "\n",
    "\\begin{align}\\tag{17}\n",
    "\\frac{\\partial \\det\\left(\\Sigma\\right)}{\\partial\\Sigma_{ij}} = \\textrm{adj}^T(\\Sigma)_{ij} = \\det(\\Sigma)\\left(\\Sigma^{-1}\\right)^T_{ij}\n",
    "\\end{align}\n",
    "\n",
    "where the <a href=\"https://en.wikipedia.org/wiki/Adjugate_matrix\">adjugate matrix</a> $\\textrm{adj}(\\Sigma)$ is defined as \n",
    "\n",
    "\\begin{align}\\tag{18}\n",
    "\\textrm{adj}(\\Sigma) = \\det(\\Sigma)\\Sigma^{-1}.\n",
    "\\end{align}\n",
    "\n",
    "Then we have\n",
    "\n",
    "\\begin{align}\\tag{19}\n",
    "\\frac{\\partial \\det\\left(\\Sigma\\right)^{-1/2}}{\\partial\\Sigma_{ij}} = -\\frac{1}{2}\\det\\left(\\Sigma\\right)^{-3/2}\\frac{\\partial \\det\\left(\\Sigma\\right)}{\\partial\\Sigma_{ij}} = -\\frac{1}{2}\\det\\left(\\Sigma\\right)^{-1/2}\\left(\\Sigma^{-1}\\right)^T_{ij}\n",
    "\\end{align}\n"
   ]
  },
  {
   "cell_type": "markdown",
   "metadata": {},
   "source": [
    "We can now compute the derivative with respect to the covariance matrix:\n",
    "\n",
    "\\begin{align}\\tag{20}\n",
    "\\frac{\\partial\\mathcal{N}\\left(\\mathbf{x}\\left|\\mu,\\Sigma\\right.\\right)}{\\partial \\Sigma_{pq}}=& \\det\\left(\\Sigma\\right)^{1/2}\\mathcal{N}\\left(\\mathbf{x}\\left|\\mu,\\Sigma\\right.\\right)\\frac{\\partial \\det\\left(\\Sigma\\right)^{-1/2}}{\\partial\\Sigma_{pq}} - \\frac{1}{2}\\mathcal{N}\\left(\\mathbf{x}\\left|\\mu,\\Sigma\\right.\\right)\\sum_{ij}(x-\\mu)_i\\frac{\\partial\\Sigma^{-1}_{ij}}{\\partial\\Sigma_{pq}}(x-\\mu)_j.\n",
    "\\end{align} "
   ]
  },
  {
   "cell_type": "markdown",
   "metadata": {},
   "source": [
    "We use now Eq.(20) to simplify the first term and we collect the normal distribution:\n",
    "\n",
    "\\begin{align}\\tag{21}\n",
    "\\frac{\\partial\\mathcal{N}\\left(\\mathbf{x}\\left|\\mu,\\Sigma\\right.\\right)}{\\partial \\Sigma_{pq}}=& \\mathcal{N}\\left(\\mathbf{x}\\left|\\mu,\\Sigma\\right.\\right)\\left[-\\frac{1}{2}\\left(\\Sigma^{-1}\\right)^T_{pq} + \\frac{1}{2}\\sum_{ij}(x-\\mu)_i\\Sigma_{ij}^{-1}\\Sigma_{ij}^{-1}(x-\\mu_j)\\delta_{pi}\\delta_{qj}\\right].\n",
    "\\end{align}"
   ]
  },
  {
   "cell_type": "markdown",
   "metadata": {},
   "source": [
    "By collecting more terms and simplifying the sum with the deltas we finally obtain:\n",
    "\n",
    "\\begin{align}\\tag{22}\n",
    "\\frac{\\partial\\mathcal{N}\\left(\\mathbf{x}\\left|\\mu,\\Sigma\\right.\\right)}{\\partial \\Sigma_{pq}}=& \\frac{1}{2}\\mathcal{N}\\left(\\mathbf{x}\\left|\\mu,\\Sigma\\right.\\right)\\left[-\\left(\\Sigma^{-1}\\right)^T_{pq} + \\left(\\Sigma^{-1}\\right)^T_{qp}(x-\\mu)_p(x-\\mu_q)\\left(\\Sigma^{-1}\\right)^T_{qp}\\right],\n",
    "\\end{align}\n",
    "\n",
    "where we used $\\Sigma_{pq}^{-1} = \\left(\\Sigma^{-1}\\right)^T_{qp}$. We can rewrite Eq.(21) in the compact matrix form"
   ]
  },
  {
   "cell_type": "markdown",
   "metadata": {},
   "source": [
    "\n",
    "\\begin{align}\\tag{23}\n",
    "\\nabla_{\\Sigma}\\mathcal{N}\\left(\\mathbf{x}\\left|\\mu,\\Sigma\\right.\\right) = \\frac{1}{2}\\mathcal{N}\\left(\\mathbf{x}\\left|\\mu,\\Sigma\\right.\\right)\\left[\\left(\\Sigma^{-1}\\right)^T\\left(x-\\mu\\right)\\left(x-\\mu\\right)^T\\left(\\Sigma^{-1}\\right)^T - \\left(\\Sigma^{-1}\\right)^T\\right]\n",
    "\\end{align}\n"
   ]
  },
  {
   "cell_type": "markdown",
   "metadata": {},
   "source": [
    "Equations (16) and (23) are general expression. If the covariance matrix $\\Sigma$ is symmetric, i.e. $\\Sigma = \\Sigma^T$ and $\\left(\\Sigma^{-1}\\right) = \\left(\\Sigma^{-1}\\right)^T$, they simplify to\n",
    "\n",
    "\n",
    "\\begin{align}\\tag{24}\n",
    "\\nabla_\\mu \\mathcal{N}\\left(\\mathbf{x}\\left|\\mu,\\Sigma\\right.\\right) = -\\Sigma^{-1}(\\mathbf{x}-\\mu)\\mathcal{N}\\left(\\mathbf{x}\\left|\\mu,\\Sigma\\right.\\right),\n",
    "\\end{align}\n",
    "\n",
    "\\begin{align}\\tag{25}\n",
    "\\nabla_\\Sigma \\mathcal{N}\\left(\\mathbf{x}\\left|\\mu,\\Sigma\\right.\\right) = \\frac{1}{2}\\Sigma^{-1}\\mathcal{N}\\left(\\mathbf{x}\\left|\\mu,\\Sigma\\right.\\right)\\left[\\left(x-\\mu\\right)\\left(x-\\mu\\right)^T\\Sigma^{-1} - \\mathbb{I}\\right],\n",
    "\\end{align}\n",
    "\n",
    "where $\\mathbb{I}$ is the identity matrix.\n"
   ]
  },
  {
   "cell_type": "markdown",
   "metadata": {},
   "source": [
    "<h3> Derivative with respect to $\\mu_k$ of the log-likelihood</h3>\n",
    "\n",
    "\n",
    "We first take the derivative with respect to $\\mu_i$ of the log-likelihood of Eq.(12):\n",
    "\n",
    "\\begin{align}\\tag{26}\n",
    "0 = \\frac{\\partial \\log p(X)}{\\partial \\mu_i} = \\sum_{m=1}^M \\frac{1}{\\sum_{j=1}^K \\pi_j\\mathcal{N}\\left(\\mathbf{x}_m\\left|\\mu_j,\\Sigma_j\\right.\\right)}\\sum_{k=1}^K\\pi_k\\frac{\\partial\\mathcal{N}\\left(\\mathbf{x}_m\\left|\\mu_k,\\Sigma_k\\right.\\right)}{\\partial \\mu_i},\n",
    "\\end{align}"
   ]
  },
  {
   "cell_type": "markdown",
   "metadata": {},
   "source": [
    "and using the result in Eq.(24) we get\n",
    "\n",
    "\\begin{align}\\tag{27}\n",
    "0 = \\frac{\\partial \\log p(X)}{\\partial \\mu_i} = -\\sum_{m=1}^M \\frac{\\pi_i\\mathcal{N}\\left(\\mathbf{x}_m\\left|\\mu_i,\\Sigma_i\\right.\\right)}{\\sum_{j=1}^K \\pi_j\\mathcal{N}\\left(\\mathbf{x}_m\\left|\\mu_j,\\Sigma_j\\right.\\right)}\\Sigma_i^{-1}(\\mathbf{x}_m-\\mu_i) = -\\sum_{m=1}^M \\gamma(z_{im})\\Sigma_i^{-1}(\\mathbf{x}_m-\\mu_i),\n",
    "\\end{align}"
   ]
  },
  {
   "cell_type": "markdown",
   "metadata": {},
   "source": [
    "where in the last equality we used the definition of the posterior probability of $\\mathbf{z}$ from Eq.(10). Multiplying Eq.(27) by $\\Sigma_i$ and solving for $\\mu_i$ we get\n",
    "\n",
    "\\begin{align}\\tag{28}\n",
    "\\mu_k = \\frac{\\sum_{m=1}^M\\gamma(z_{km})\\mathbf{x}_m}{\\sum_{m=1}^M\\gamma(z_{km})}.\n",
    "\\end{align}"
   ]
  },
  {
   "cell_type": "markdown",
   "metadata": {},
   "source": [
    "<h3> Derivative with respect to $\\Sigma_k$ of the log-likelihood </h3>"
   ]
  },
  {
   "cell_type": "markdown",
   "metadata": {
    "collapsed": true
   },
   "source": [
    "Deriving the log-likelihood with respect to the covariance matrix $\\Sigma_i$ we get:\n",
    "    \n",
    "\\begin{align}\\tag{29}\n",
    "0=\\frac{\\partial\\log p(X)}{\\partial\\Sigma_i} = \\sum_{m=1}^M \\frac{1}{\\sum_{j=1}^K \\pi_j\\mathcal{N}\\left(\\mathbf{x}_m\\left|\\mu_j,\\Sigma_j\\right.\\right)}\\sum_{k=1}^K\\pi_k \\frac{\\partial \\mathcal{N}\\left(\\mathbf{x}_m\\left|\\mu_k,\\Sigma_k\\right.\\right)}{\\partial\\Sigma_i},\n",
    "\\end{align}\n",
    "\n",
    "and making use of Eq.(25) we obtain"
   ]
  },
  {
   "cell_type": "markdown",
   "metadata": {},
   "source": [
    "\\begin{align}\\tag{30}\n",
    "0=\\frac{\\partial\\log p(X)}{\\partial\\Sigma_i} =\\frac{1}{2}\\sum_{m=1}^M \\frac{\\pi_i\\mathcal{N}\\left(\\mathbf{x}_m\\left|\\mu_i,\\Sigma_i\\right.\\right)}{\\sum_{j=1}^K \\pi_j\\mathcal{N}\\left(\\mathbf{x}_m\\left|\\mu_j,\\Sigma_j\\right.\\right)}\\Sigma_i^{-1}\\left[(\\mathbf{x}_m-\\mu_i)(\\mathbf{x}_m-\\mu_i)^T\\Sigma^{-1}_i - \\mathbb{I}\\right],\n",
    "\\end{align}\n",
    "\n",
    "or in a more compact form\n",
    "\n",
    "\\begin{align}\\tag{31}\n",
    "0 =\\frac{1}{2}\\sum_{m=1}^M \\gamma\\left(z_{mi}\\right)\\Sigma_i^{-1}\\left[(\\mathbf{x}_m-\\mu_i)(\\mathbf{x}_m-\\mu_i)^T\\Sigma^{-1}_i - \\mathbb{I}\\right].\n",
    "\\end{align}"
   ]
  },
  {
   "cell_type": "markdown",
   "metadata": {},
   "source": [
    "We can now multiply on the left by $2\\Sigma_i$ and on the right by $\\Sigma_i$ we find\n",
    "\n",
    "\\begin{align}\\tag{32}\n",
    "0 =\\sum_{m=1}^M \\gamma\\left(z_{mi}\\right)\\left[(\\mathbf{x}_m-\\mu_i)(\\mathbf{x}_m-\\mu_i)^T - \\Sigma_i\\right],\n",
    "\\end{align}\n",
    "\n",
    "and solving for $\\Sigma_i$ one has\n",
    "\n",
    "\\begin{align}\\tag{33}\n",
    "\\Sigma_i = \\frac{\\sum_{m=1}^M\\gamma\\left(z_{mi}\\right)(\\mathbf{x}_m-\\mu_i)(\\mathbf{x}_m-\\mu_i)^T}{\\sum_{m=1}^M\\gamma\\left(z_{mi}\\right)}.\n",
    "\\end{align}"
   ]
  },
  {
   "cell_type": "markdown",
   "metadata": {},
   "source": [
    "<h3> Derivative with respect to $\\pi_k$ of the log-likelihood </h3>"
   ]
  },
  {
   "cell_type": "markdown",
   "metadata": {},
   "source": [
    "As last step we maximize the log-likelihood with respect to $\\pi_i$. However, we know that the $\\pi_i$ coefficients are subject to the constraint $\\sum_i\\pi_i = 1$. We take into account this constraint in the maximization by introducing a <a href=\"https://en.wikipedia.org/wiki/Lagrange_multiplier\">lagrangian multiplier</a> $\\lambda$ and maximize the following function\n",
    "\n",
    "\\begin{align}\\tag{34}\n",
    "0=\\frac{\\partial}{\\partial\\pi_i}\\left[\\log p(X) + \\lambda\\left(\\sum_k\\pi_k - 1\\right)\\right] = \\sum_{m=1}^M \\frac{\\mathcal{N}\\left(\\mathbf{x}_m\\left|\\mu_i,\\Sigma_i\\right.\\right)}{\\sum_{j=1}^K \\pi_j\\mathcal{N}\\left(\\mathbf{x}_m\\left|\\mu_j,\\Sigma_j\\right.\\right)} + \\lambda.\n",
    "\\end{align}"
   ]
  },
  {
   "cell_type": "markdown",
   "metadata": {},
   "source": [
    "Multiplying both sides by $\\pi_i$ one gets\n",
    "\n",
    "\\begin{align}\\tag{35}\n",
    "0 = \\sum_{m=1}^M\\gamma\\left(z_{mi}\\right) + \\lambda\\pi_i.\n",
    "\\end{align}"
   ]
  },
  {
   "cell_type": "markdown",
   "metadata": {},
   "source": [
    "Summung Eq.(35) over $i$ and using the constraints $\\sum_i\\gamma(z_{mi}) = 1$ and $\\sum_i\\pi_i=1$ we find $\\lambda=-M$. Substituting in Eq.(35) and solving for $\\pi_i$ we finally obtain\n",
    "\n",
    "\\begin{align}\\tag{36}\n",
    "\\pi_i = \\frac{1}{M}\\sum_{m=1}^M\\gamma\\left(z_{mi}\\right).\n",
    "\\end{align}"
   ]
  },
  {
   "cell_type": "markdown",
   "metadata": {
    "collapsed": true
   },
   "source": [
    "<h3> E(xpectation) and M(aximization) steps </h3>"
   ]
  },
  {
   "cell_type": "markdown",
   "metadata": {},
   "source": [
    "The final formulas for the means $\\mu_k$, the mixing coefficients $\\pi_k$ and the covariance matrice $\\Sigma_k$ are not closed form solutions for our problem. These variables clearly depend upon each other. This suggests that one can use an iterative algorithm to estimate the best values for these parameters. The strategy is to choose an initial set of $\\mu_k, \\pi_k$ and $\\Sigma_k$, and then alternate between an E(xpectation) step and a M(aximization) step:\n",
    "\n",
    "<ul>\n",
    "<li>E-step: use the current values of the parameters to update the posterior distributions $\\gamma(z_{m})$.</li>\n",
    "<li>M-step: reestimate $\\mu_k, \\pi_k$ and $\\Sigma_k$ using Eqs.(28), (33) and (36). </li>\n",
    "</ul>\n",
    "\n",
    "We then iterate the above procedure until convergence is reached."
   ]
  },
  {
   "cell_type": "markdown",
   "metadata": {},
   "source": [
    "<h1>3. Python implementation of EM algorithm </h1>"
   ]
  },
  {
   "cell_type": "markdown",
   "metadata": {
    "collapsed": false
   },
   "source": [
    "<h3> Importing and visualizing the dataset </h3>"
   ]
  },
  {
   "cell_type": "code",
   "execution_count": 1,
   "metadata": {
    "collapsed": true
   },
   "outputs": [],
   "source": [
    "# import libraries\n",
    "import numpy as np\n",
    "import pandas as pd\n",
    "import matplotlib.pyplot as plt\n",
    "from pylab import *\n",
    "import matplotlib.mlab as mlab\n",
    "%matplotlib inline"
   ]
  },
  {
   "cell_type": "code",
   "execution_count": 2,
   "metadata": {
    "collapsed": false
   },
   "outputs": [
    {
     "name": "stdout",
     "output_type": "stream",
     "text": [
      "   eruptions  waiting\n",
      "0      3.600       79\n",
      "1      1.800       54\n",
      "2      3.333       74\n"
     ]
    }
   ],
   "source": [
    "# Import dataset and drop firs column (index column)\n",
    "df = pd.read_csv(\"../DATASETS/faithful.csv\")\n",
    "df.drop(df.columns[[0]],axis=1,inplace=True)\n",
    "print df.head(3)"
   ]
  },
  {
   "cell_type": "code",
   "execution_count": 3,
   "metadata": {
    "collapsed": false
   },
   "outputs": [
    {
     "data": {
      "image/png": "[encoded data removed]",
      "text/plain": [
       "<matplotlib.figure.Figure at 0x7f7706af7650>"
      ]
     },
     "metadata": {},
     "output_type": "display_data"
    }
   ],
   "source": [
    "# Visualize data\n",
    "fig = figure(figsize=(8,4))\n",
    "sub = fig.add_subplot(111)\n",
    "\n",
    "sub.scatter(df.eruptions,df.waiting)\n",
    "sub.set_xlabel('eruptions [mins]')\n",
    "sub.set_ylabel('waiting [mins]')\n",
    "\n",
    "plt.show()"
   ]
  },
  {
   "cell_type": "markdown",
   "metadata": {
    "collapsed": true
   },
   "source": [
    "<h3> Normalizing the data and initializing EM parameters</h3>\n",
    "\n",
    "We define two functions to normalize the data and randomly initialize the problem parameters."
   ]
  },
  {
   "cell_type": "code",
   "execution_count": 4,
   "metadata": {
    "collapsed": true
   },
   "outputs": [],
   "source": [
    "# Function to normalize data in a dataframe in the range [0,1]\n",
    "def _normalize_data(df):\n",
    "    # Number of columns\n",
    "    header = df.columns.values\n",
    "    # Normalize column by column\n",
    "    for col in header:\n",
    "        cmax = np.max(df[col])\n",
    "        cmin = np.min(df[col])\n",
    "        df[col] = df[col].apply(lambda r: float(r - cmin)/float(cmax - cmin))\n",
    "    return df\n",
    "\n",
    "# Function which initializes the parameters\n",
    "# Inputs are the dimension of the data points N\n",
    "# and the number of clusters K\n",
    "def _initialize(N,K):\n",
    "    np.random.seed(26)\n",
    "    # Initialize mean vectors (one for each cluster) (KxN)\n",
    "    mu = np.random.rand(K,N)\n",
    "    #mu[0,0] = 0.0\n",
    "    #mu[0,1] = 0.0\n",
    "    #mu[1,0] = 1.0\n",
    "    #mu[1,1] = 1.0\n",
    "    # Initialize mixing coefficients (one for each cluster) (1xK)\n",
    "    # NB: they must be normalized\n",
    "    pi = np.random.rand(K)\n",
    "    pi = pi / np.sum(pi)\n",
    "    #pi = np.zeros(K)\n",
    "    #for k in range(K):\n",
    "    #    pi[k] = 1.0 / float(K)\n",
    "    # Initialize covariance matrices (one for each cluster) (NxN)\n",
    "    E = range(K)\n",
    "    for k in range(K):\n",
    "        E[k] = np.identity(N)\n",
    "    \n",
    "    return mu,E,pi\n"
   ]
  },
  {
   "cell_type": "markdown",
   "metadata": {},
   "source": [
    "We now call these functions and normalize the data. We then select the number of clusters $K$ (in this case 2, since it is clear from the visualization of the dataset that we have 2 distinct clusters) and we setup the data (design) matrix $X$. We then initialize $\\pi_k,\\mu_k$ and $\\Sigma_k$."
   ]
  },
  {
   "cell_type": "code",
   "execution_count": 5,
   "metadata": {
    "collapsed": false
   },
   "outputs": [],
   "source": [
    "# Normalize data\n",
    "df = _normalize_data(df)\n",
    "# Set data matrix\n",
    "X = np.matrix(df)\n",
    "# Set number of clusters\n",
    "K = 2\n",
    "# Find dimension of data\n",
    "M,N = X.shape\n",
    "# Initialize matrices for clustering EM algorithm\n",
    "mu,E,pi = _initialize(N,K)"
   ]
  },
  {
   "cell_type": "markdown",
   "metadata": {},
   "source": [
    "<h3> Calculating the posterior for the latent variable </h3>\n",
    "\n",
    "Here we define a function to get the value of the multivariate normal distribution $\\mathcal{N}(\\mathbf{x}_m|\\mu_k,\\Sigma_k)$ given a data point $\\mathbf{x}_m$. We also code a function to obtain the posterior $\\gamma(z_{mk})$."
   ]
  },
  {
   "cell_type": "code",
   "execution_count": 6,
   "metadata": {
    "collapsed": true
   },
   "outputs": [],
   "source": [
    "def _normal(x,mu,E):\n",
    "    norm = 1.0 / ((2.0*np.pi)**len(x)*np.sqrt(np.linalg.det(E)))\n",
    "    delta = (x - mu) # (1xN)\n",
    "    exponent = np.dot(np.dot(delta,np.linalg.pinv(E)),np.transpose(delta))\n",
    "    return norm * np.exp(-0.5 * exponent)\n",
    "\n",
    "# Calculation of the posterior of the latent variable z\n",
    "# This function basically performs the E step in the EM algorithm\n",
    "def _getGamma(X,mu,E,pi):\n",
    "    M,N = X.shape\n",
    "    K = len(E)\n",
    "    gamma = np.zeros((M,K),dtype=float)\n",
    "\n",
    "    for m in range(M):\n",
    "        for k in range(K):\n",
    "            gamma[m,k] = pi[k] * _normal(X[m,:],mu[k],E[k])\n",
    "        # Normalize posterior\n",
    "        gamma[m,:] = gamma[m,:] / np.sum(gamma[m,:],axis=0)\n",
    "    return gamma\n",
    "   "
   ]
  },
  {
   "cell_type": "markdown",
   "metadata": {
    "collapsed": false
   },
   "source": [
    "Once we calculated the posterior of the latent variable, we need to reevaluate the parameters of the Gaussian Mixture. We do these in a function where we do the so-called M-step."
   ]
  },
  {
   "cell_type": "code",
   "execution_count": 7,
   "metadata": {
    "collapsed": false
   },
   "outputs": [],
   "source": [
    "# Maximization step: update parameters\n",
    "def _Mstep(X,gamma):\n",
    "    M,N = X.shape\n",
    "    K = gamma.shape[1]\n",
    "    # Norm\n",
    "    norm = np.sum(gamma,axis=0).reshape(K,1)\n",
    "    # New means\n",
    "    mu_new = np.dot(np.transpose(gamma),X) / norm\n",
    "    # New covariance matrices\n",
    "    E_new = range(K)\n",
    "    for k in range(K):\n",
    "        for m in range(M):\n",
    "            #E_new[k] = \n",
    "            delta = (X[m,:] - mu_new[k,:])\n",
    "            E_new[k] += gamma[m,k] * np.dot(np.transpose(delta),delta)\n",
    "        # Normalize\n",
    "        E_new[k] = E_new[k] / norm[k]\n",
    "    # New mixing coefficients\n",
    "    pi_new = norm / float(M)\n",
    "    \n",
    "    return mu_new, E_new, pi_new"
   ]
  },
  {
   "cell_type": "markdown",
   "metadata": {},
   "source": [
    "Finally, with the above functions, we can now perform the EM optimization to find the best values for our parameters."
   ]
  },
  {
   "cell_type": "code",
   "execution_count": 8,
   "metadata": {
    "collapsed": false
   },
   "outputs": [],
   "source": [
    "# Copy initial values\n",
    "mu_new = np.copy(mu)\n",
    "E_new = np.copy(E)\n",
    "pi_new = np.copy(pi)\n",
    "\n",
    "# Start EM iterations\n",
    "maxIter = 55\n",
    "for i in range(maxIter):\n",
    "    # E-step (evaluate posterior)\n",
    "    gamma_new = _getGamma(X,mu_new,E_new,pi_new)\n",
    "    # M-step (update parameters)\n",
    "    mu_new,E_new,pi_new = _Mstep(X,gamma_new)"
   ]
  },
  {
   "cell_type": "markdown",
   "metadata": {},
   "source": [
    "And we can also visualize the final result:"
   ]
  },
  {
   "cell_type": "code",
   "execution_count": 9,
   "metadata": {
    "collapsed": false
   },
   "outputs": [
    {
     "data": {
      "image/png": "[encoded data removed]",
      "text/plain": [
       "<matplotlib.figure.Figure at 0x7f7704aa2450>"
      ]
     },
     "metadata": {},
     "output_type": "display_data"
    }
   ],
   "source": [
    "# Build bivariate distributions (if data are 2D)\n",
    "A,B = np.meshgrid(np.linspace(-0.1,1.1,100),np.linspace(-0.1,1.1,50))\n",
    "Z = range(K)\n",
    "for k in range(K):\n",
    "    Z[k] = mlab.bivariate_normal(A,B, np.sqrt(E_new[k][0,0]), np.sqrt(E_new[k][1,1]), \n",
    "                                 mu_new[k][0,0],mu_new[k][0,1],E_new[k][0,1] )\n",
    "\n",
    "fig = figure(figsize=(8,4))\n",
    "sub = fig.add_subplot(111)\n",
    "\n",
    "color = np.argmax(gamma_new,axis=1)    \n",
    "\n",
    "# Plot data (different colores = different clusters)\n",
    "sub.scatter(X[:,0],X[:,1],c=color,alpha=0.5)\n",
    "# Set labels\n",
    "sub.set_xlabel('eruptions')\n",
    "sub.set_ylabel('waiting')\n",
    "# Plot contours for the bivariate distributions\n",
    "# The line corresponds to the value at which the\n",
    "# distribution is 2.5% of its maximum value\n",
    "for k in range(K):\n",
    "    sub.contour(A,B,Z[k],[0.025*np.max(Z[k])])\n",
    "# Set scale\n",
    "sub.set_xlim([-0.1,1.1])\n",
    "sub.set_ylim([-0.1,1.1])\n",
    "# Plot centroids\n",
    "sub.scatter(mu_new[:,0],mu_new[:,1],color='y')\n",
    "\n",
    "plt.show()"
   ]
  },
  {
   "cell_type": "markdown",
   "metadata": {},
   "source": [
    "<h3> How many clusters? </h3>\n",
    "\n",
    "In the case we studied, the data are very well separate in two clusters and so it is easy to choose the value of $K$ which has to be used. But what if the data are closer together or it is not clear how many clusters to identify? In this case the EM algorithm takes care of the problem by itself!\n",
    "\n",
    "Suppose we want to choose $K=3$ and let's run again the algorithm."
   ]
  },
  {
   "cell_type": "code",
   "execution_count": 10,
   "metadata": {
    "collapsed": false
   },
   "outputs": [
    {
     "name": "stdout",
     "output_type": "stream",
     "text": [
      "[[  6.33017640e-01]\n",
      " [  3.66982360e-01]\n",
      " [  1.34312262e-17]]\n"
     ]
    }
   ],
   "source": [
    "# Initialize matrices for clustering EM algorithm\n",
    "K = 3\n",
    "mu,E,pi = _initialize(N,K)\n",
    "\n",
    "# Copy initial values\n",
    "mu_new = np.copy(mu)\n",
    "E_new = np.copy(E)\n",
    "pi_new = np.copy(pi)\n",
    "\n",
    "# Start EM iterations\n",
    "maxIter = 55\n",
    "for i in range(maxIter):\n",
    "    # E-step (evaluate posterior)\n",
    "    gamma_new = _getGamma(X,mu_new,E_new,pi_new)\n",
    "    # M-step (update parameters)\n",
    "    mu_new,E_new,pi_new = _Mstep(X,gamma_new)\n",
    "    # Here we check that all the elements of pi_new,\n",
    "    # which is the array of the mixing coefficients,\n",
    "    # are larger than the numerical precision\n",
    "    if ((pi_new < 1E-15).any()):\n",
    "        print pi_new\n",
    "        break"
   ]
  },
  {
   "cell_type": "markdown",
   "metadata": {},
   "source": [
    "From the above result we immediately see that the mixing coefficient for the third Gaussian goes to zero, meaning that the third Gaussian needs not to be in the mixture. Because $\\gamma(z_k)$ is a vector in $\\mathbb{R}^{K}$ and because the way it is defined in Eq.(10), we see that if one of the $\\pi_k$ coefficients is zero, the corresponding element of the $\\gamma(z_k)$ vector will also be zero. Since $\\gamma(z_k)$ always appears in the denominator of the update rules for $\\pi_k, \\mu_k$ and $\\Sigma_k$, we must stop the algorithm if one of the $\\pi_k$ is zero in order to avoid division by zero.\n",
    "\n",
    "Stopping the algorithm in this way will tell us if we are picking a number of clusters which is too high for the data we are trying to describe."
   ]
  }
 ],
 "metadata": {
  "kernelspec": {
   "display_name": "Python 2",
   "language": "python",
   "name": "python2"
  },
  "language_info": {
   "codemirror_mode": {
    "name": "ipython",
    "version": 2
   },
   "file_extension": ".py",
   "mimetype": "text/x-python",
   "name": "python",
   "nbconvert_exporter": "python",
   "pygments_lexer": "ipython2",
   "version": "2.7.6"
  }
 },
 "nbformat": 4,
 "nbformat_minor": 2
}
